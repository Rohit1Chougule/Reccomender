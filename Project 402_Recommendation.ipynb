{
 "cells": [
  {
   "cell_type": "code",
   "execution_count": 1,
   "id": "a6ac2bb2",
   "metadata": {},
   "outputs": [],
   "source": [
    "#import required basic libraries\n",
    "import pandas as pd\n",
    "import numpy as np\n",
    "import matplotlib.pyplot as plt\n",
    "from wordcloud import WordCloud\n",
    "import seaborn as sns\n",
    "import warnings\n",
    "warnings.filterwarnings('ignore')"
   ]
  },
  {
   "cell_type": "markdown",
   "id": "4a952ea7",
   "metadata": {},
   "source": [
    "# EDA"
   ]
  },
  {
   "cell_type": "code",
   "execution_count": 2,
   "id": "1904e788",
   "metadata": {},
   "outputs": [
    {
     "name": "stdout",
     "output_type": "stream",
     "text": [
      "         ISBN                                         Book-Title  \\\n",
      "0  0195153448                                Classical Mythology   \n",
      "1  0002005018                                       Clara Callan   \n",
      "2  0060973129                               Decision in Normandy   \n",
      "3  0374157065  Flu: The Story of the Great Influenza Pandemic...   \n",
      "4  0393045218                             The Mummies of Urumchi   \n",
      "\n",
      "            Book-Author Year-Of-Publication                   Publisher  \\\n",
      "0    Mark P. O. Morford                2002     Oxford University Press   \n",
      "1  Richard Bruce Wright                2001       HarperFlamingo Canada   \n",
      "2          Carlo D'Este                1991             HarperPerennial   \n",
      "3      Gina Bari Kolata                1999        Farrar Straus Giroux   \n",
      "4       E. J. W. Barber                1999  W. W. Norton &amp; Company   \n",
      "\n",
      "                                         Image-URL-S  \\\n",
      "0  http://images.amazon.com/images/P/0195153448.0...   \n",
      "1  http://images.amazon.com/images/P/0002005018.0...   \n",
      "2  http://images.amazon.com/images/P/0060973129.0...   \n",
      "3  http://images.amazon.com/images/P/0374157065.0...   \n",
      "4  http://images.amazon.com/images/P/0393045218.0...   \n",
      "\n",
      "                                         Image-URL-M  \\\n",
      "0  http://images.amazon.com/images/P/0195153448.0...   \n",
      "1  http://images.amazon.com/images/P/0002005018.0...   \n",
      "2  http://images.amazon.com/images/P/0060973129.0...   \n",
      "3  http://images.amazon.com/images/P/0374157065.0...   \n",
      "4  http://images.amazon.com/images/P/0393045218.0...   \n",
      "\n",
      "                                         Image-URL-L  \n",
      "0  http://images.amazon.com/images/P/0195153448.0...  \n",
      "1  http://images.amazon.com/images/P/0002005018.0...  \n",
      "2  http://images.amazon.com/images/P/0060973129.0...  \n",
      "3  http://images.amazon.com/images/P/0374157065.0...  \n",
      "4  http://images.amazon.com/images/P/0393045218.0...  \n"
     ]
    }
   ],
   "source": [
    "#Load the dataset\n",
    "books = pd.read_csv(\"books.csv\",encoding='latin-1')\n",
    "print(books.head())\n"
   ]
  },
  {
   "cell_type": "code",
   "execution_count": 3,
   "id": "d5655b5d",
   "metadata": {},
   "outputs": [
    {
     "name": "stdout",
     "output_type": "stream",
     "text": [
      "   User-ID        ISBN  Book-Rating\n",
      "0   276725  034545104X            0\n",
      "1   276726  0155061224            5\n",
      "2   276727  0446520802            0\n",
      "3   276729  052165615X            3\n",
      "4   276729  0521795028            6\n"
     ]
    }
   ],
   "source": [
    "ratings= pd.read_csv(\"ratings.csv\",encoding='latin-1')\n",
    "print(ratings.head())"
   ]
  },
  {
   "cell_type": "code",
   "execution_count": 4,
   "id": "12c986e9",
   "metadata": {},
   "outputs": [
    {
     "name": "stdout",
     "output_type": "stream",
     "text": [
      "   User-ID                            Location   Age\n",
      "0        1                  nyc, new york, usa   NaN\n",
      "1        2           stockton, california, usa  18.0\n",
      "2        3     moscow, yukon territory, russia   NaN\n",
      "3        4           porto, v.n.gaia, portugal  17.0\n",
      "4        5  farnborough, hants, united kingdom   NaN\n"
     ]
    }
   ],
   "source": [
    "users = pd.read_csv(\"users.csv\",encoding='latin-1')\n",
    "print(users.head())"
   ]
  },
  {
   "cell_type": "code",
   "execution_count": 5,
   "id": "c40f4e2e",
   "metadata": {},
   "outputs": [
    {
     "name": "stdout",
     "output_type": "stream",
     "text": [
      "ISBN                   0\n",
      "Book-Title             0\n",
      "Book-Author            1\n",
      "Year-Of-Publication    0\n",
      "Publisher              2\n",
      "Image-URL-S            0\n",
      "Image-URL-M            0\n",
      "Image-URL-L            3\n",
      "dtype: int64\n",
      "Total shape of table book is: (271360, 8)\n"
     ]
    }
   ],
   "source": [
    "#identifying missing values\n",
    "print(books.isnull().sum())\n",
    "books.shape\n",
    "print(f'Total shape of table book is: {books.shape}')"
   ]
  },
  {
   "cell_type": "code",
   "execution_count": 6,
   "id": "17213083",
   "metadata": {},
   "outputs": [
    {
     "name": "stdout",
     "output_type": "stream",
     "text": [
      "\n",
      "Rows with null values:\n",
      "              ISBN                                         Book-Title  \\\n",
      "128890  193169656X                                        Tyrant Moon   \n",
      "129037  1931696993                                    Finders Keepers   \n",
      "187689  9627982032  The Credit Suisse Guide to Managing Your Perso...   \n",
      "209538  078946697X  DK Readers: Creating the X-Men, How It All Beg...   \n",
      "220731  2070426769  Peuple du ciel, suivi de 'Les Bergers\\\";Jean-M...   \n",
      "221678  0789466953  DK Readers: Creating the X-Men, How Comic Book...   \n",
      "\n",
      "            Book-Author Year-Of-Publication  \\\n",
      "128890  Elaine Corvidae                2002   \n",
      "129037  Linnea Sinclair                2001   \n",
      "187689              NaN                1995   \n",
      "209538             2000   DK Publishing Inc   \n",
      "220731             2003           Gallimard   \n",
      "221678             2000   DK Publishing Inc   \n",
      "\n",
      "                                                Publisher  \\\n",
      "128890                                                NaN   \n",
      "129037                                                NaN   \n",
      "187689                     Edinburgh Financial Publishing   \n",
      "209538  http://images.amazon.com/images/P/078946697X.0...   \n",
      "220731  http://images.amazon.com/images/P/2070426769.0...   \n",
      "221678  http://images.amazon.com/images/P/0789466953.0...   \n",
      "\n",
      "                                              Image-URL-S  \\\n",
      "128890  http://images.amazon.com/images/P/193169656X.0...   \n",
      "129037  http://images.amazon.com/images/P/1931696993.0...   \n",
      "187689  http://images.amazon.com/images/P/9627982032.0...   \n",
      "209538  http://images.amazon.com/images/P/078946697X.0...   \n",
      "220731  http://images.amazon.com/images/P/2070426769.0...   \n",
      "221678  http://images.amazon.com/images/P/0789466953.0...   \n",
      "\n",
      "                                              Image-URL-M  \\\n",
      "128890  http://images.amazon.com/images/P/193169656X.0...   \n",
      "129037  http://images.amazon.com/images/P/1931696993.0...   \n",
      "187689  http://images.amazon.com/images/P/9627982032.0...   \n",
      "209538  http://images.amazon.com/images/P/078946697X.0...   \n",
      "220731  http://images.amazon.com/images/P/2070426769.0...   \n",
      "221678  http://images.amazon.com/images/P/0789466953.0...   \n",
      "\n",
      "                                              Image-URL-L  \n",
      "128890  http://images.amazon.com/images/P/193169656X.0...  \n",
      "129037  http://images.amazon.com/images/P/1931696993.0...  \n",
      "187689  http://images.amazon.com/images/P/9627982032.0...  \n",
      "209538                                                NaN  \n",
      "220731                                                NaN  \n",
      "221678                                                NaN  \n"
     ]
    }
   ],
   "source": [
    "# Find rows with null values\n",
    "null_rows = books[books.isnull().any(axis=1)]\n",
    "print(\"\\nRows with null values:\")\n",
    "print(null_rows)"
   ]
  },
  {
   "cell_type": "code",
   "execution_count": 7,
   "id": "781ad3bf",
   "metadata": {},
   "outputs": [
    {
     "name": "stdout",
     "output_type": "stream",
     "text": [
      "User-ID        0\n",
      "ISBN           0\n",
      "Book-Rating    0\n",
      "dtype: int64\n",
      "Total shape of table ratings is: (1149780, 3)\n"
     ]
    }
   ],
   "source": [
    "print(ratings.isnull().sum())\n",
    "print(f'Total shape of table ratings is: {ratings.shape}')"
   ]
  },
  {
   "cell_type": "code",
   "execution_count": 8,
   "id": "97365446",
   "metadata": {},
   "outputs": [
    {
     "name": "stdout",
     "output_type": "stream",
     "text": [
      "User-ID          0\n",
      "Location         0\n",
      "Age         110762\n",
      "dtype: int64\n",
      "Total shape of table userss is : (278858, 3)\n"
     ]
    }
   ],
   "source": [
    "print(users.isnull().sum())\n",
    "print(f'Total shape of table userss is : {users.shape}')"
   ]
  },
  {
   "cell_type": "code",
   "execution_count": 9,
   "id": "49bb8bd4",
   "metadata": {},
   "outputs": [
    {
     "name": "stdout",
     "output_type": "stream",
     "text": [
      "\n",
      "Rows with null values:\n",
      "        User-ID                            Location  Age\n",
      "0             1                  nyc, new york, usa  NaN\n",
      "2             3     moscow, yukon territory, russia  NaN\n",
      "4             5  farnborough, hants, united kingdom  NaN\n",
      "6             7                 washington, dc, usa  NaN\n",
      "7             8            timmins, ontario, canada  NaN\n",
      "...         ...                                 ...  ...\n",
      "278849   278850          sergnano, lombardia, italy  NaN\n",
      "278853   278854               portland, oregon, usa  NaN\n",
      "278855   278856           brampton, ontario, canada  NaN\n",
      "278856   278857           knoxville, tennessee, usa  NaN\n",
      "278857   278858                dublin, n/a, ireland  NaN\n",
      "\n",
      "[110762 rows x 3 columns]\n"
     ]
    }
   ],
   "source": [
    "# Disply rows with null values\n",
    "null_rows1 = users[users.isnull().any(axis=1)]\n",
    "print(\"\\nRows with null values:\")\n",
    "print(null_rows1)"
   ]
  },
  {
   "cell_type": "code",
   "execution_count": 10,
   "id": "6e096f03",
   "metadata": {},
   "outputs": [
    {
     "data": {
      "text/plain": [
       "278858"
      ]
     },
     "execution_count": 10,
     "metadata": {},
     "output_type": "execute_result"
    }
   ],
   "source": [
    "len(users)"
   ]
  },
  {
   "cell_type": "code",
   "execution_count": 11,
   "id": "070885e8",
   "metadata": {},
   "outputs": [
    {
     "data": {
      "text/plain": [
       "110762"
      ]
     },
     "execution_count": 11,
     "metadata": {},
     "output_type": "execute_result"
    }
   ],
   "source": [
    "users['Age'].isnull().sum()"
   ]
  },
  {
   "cell_type": "code",
   "execution_count": 12,
   "id": "f4fd7310",
   "metadata": {},
   "outputs": [],
   "source": [
    "#Identifying % of Columns null values \n",
    "\n",
    "null_count_col =users.isnull().sum().value_counts(ascending= False)\n",
    "\n",
    "null_percent_col = (((users.isnull().sum()) / (len(users))) * 100).value_counts(ascending= False)"
   ]
  },
  {
   "cell_type": "code",
   "execution_count": 13,
   "id": "0eb4d353",
   "metadata": {},
   "outputs": [
    {
     "name": "stdout",
     "output_type": "stream",
     "text": [
      "Null count for Columns: \n",
      "\n",
      " 0         2\n",
      "110762    1\n",
      "dtype: int64 \n",
      "\n",
      "Null percentage for Columns :\n",
      " 0.000000     2\n",
      "39.719857    1\n",
      "dtype: int64\n"
     ]
    }
   ],
   "source": [
    "print(\"Null count for Columns: \\n\\n\",null_count_col, \"\\n\")\n",
    "print(\"Null percentage for Columns :\\n\", null_percent_col)"
   ]
  },
  {
   "cell_type": "code",
   "execution_count": 14,
   "id": "f538dc1e",
   "metadata": {},
   "outputs": [
    {
     "data": {
      "text/plain": [
       "User-ID      0.00\n",
       "Location     0.00\n",
       "Age         39.72\n",
       "dtype: float64"
      ]
     },
     "execution_count": 14,
     "metadata": {},
     "output_type": "execute_result"
    }
   ],
   "source": [
    "missing_value_percentage= round(users.isnull().mean().mul(100),2)\n",
    "missing_value_percentage"
   ]
  },
  {
   "cell_type": "code",
   "execution_count": 15,
   "id": "2c8b75ed",
   "metadata": {},
   "outputs": [
    {
     "name": "stdout",
     "output_type": "stream",
     "text": [
      "ISBN                   0\n",
      "Book-Title             0\n",
      "Book-Author            0\n",
      "Year-Of-Publication    0\n",
      "Publisher              0\n",
      "Image-URL-S            0\n",
      "Image-URL-M            0\n",
      "Image-URL-L            0\n",
      "dtype: int64\n",
      "Total shape of table book is: (271360, 8)\n",
      "ISBN                   object\n",
      "Book-Title             object\n",
      "Book-Author            object\n",
      "Year-Of-Publication    object\n",
      "Publisher              object\n",
      "Image-URL-S            object\n",
      "Image-URL-M            object\n",
      "Image-URL-L            object\n",
      "dtype: object\n"
     ]
    }
   ],
   "source": [
    "#Dealing with missing values\n",
    "books['Book-Author']= books['Book-Author'].fillna('None')\n",
    "books['Publisher']= books['Publisher'].fillna('None')\n",
    "books['Image-URL-L']= books['Image-URL-L'].fillna('None')\n",
    "print(books.isnull().sum())\n",
    "print(f'Total shape of table book is: {books.shape}')\n",
    "print(books.dtypes)"
   ]
  },
  {
   "cell_type": "code",
   "execution_count": 16,
   "id": "dad12289",
   "metadata": {},
   "outputs": [],
   "source": [
    "#Null values replacing with median of 'Age' column\n",
    "users = users.fillna(users.median())"
   ]
  },
  {
   "cell_type": "code",
   "execution_count": 17,
   "id": "7b80f78d",
   "metadata": {},
   "outputs": [
    {
     "name": "stdout",
     "output_type": "stream",
     "text": [
      "User-ID     0\n",
      "Location    0\n",
      "Age         0\n",
      "dtype: int64\n",
      "Total shape of table userss is : (278858, 3)\n"
     ]
    }
   ],
   "source": [
    "print(users.isnull().sum())\n",
    "print(f'Total shape of table userss is : {users.shape}')"
   ]
  },
  {
   "cell_type": "code",
   "execution_count": 18,
   "id": "aacaf7a7",
   "metadata": {},
   "outputs": [
    {
     "data": {
      "text/plain": [
       "0"
      ]
     },
     "execution_count": 18,
     "metadata": {},
     "output_type": "execute_result"
    }
   ],
   "source": [
    "#Duplicates\n",
    "books.duplicated().sum()"
   ]
  },
  {
   "cell_type": "code",
   "execution_count": 19,
   "id": "d4121494",
   "metadata": {},
   "outputs": [
    {
     "data": {
      "text/plain": [
       "0"
      ]
     },
     "execution_count": 19,
     "metadata": {},
     "output_type": "execute_result"
    }
   ],
   "source": [
    "ratings.duplicated().sum()"
   ]
  },
  {
   "cell_type": "code",
   "execution_count": 20,
   "id": "193f0438",
   "metadata": {},
   "outputs": [
    {
     "data": {
      "text/plain": [
       "0"
      ]
     },
     "execution_count": 20,
     "metadata": {},
     "output_type": "execute_result"
    }
   ],
   "source": [
    "users.duplicated().sum()"
   ]
  },
  {
   "cell_type": "code",
   "execution_count": 21,
   "id": "fe9aac3c",
   "metadata": {},
   "outputs": [
    {
     "data": {
      "text/html": [
       "<div>\n",
       "<style scoped>\n",
       "    .dataframe tbody tr th:only-of-type {\n",
       "        vertical-align: middle;\n",
       "    }\n",
       "\n",
       "    .dataframe tbody tr th {\n",
       "        vertical-align: top;\n",
       "    }\n",
       "\n",
       "    .dataframe thead th {\n",
       "        text-align: right;\n",
       "    }\n",
       "</style>\n",
       "<table border=\"1\" class=\"dataframe\">\n",
       "  <thead>\n",
       "    <tr style=\"text-align: right;\">\n",
       "      <th></th>\n",
       "      <th>ISBN</th>\n",
       "      <th>Book-Title</th>\n",
       "      <th>Book-Author</th>\n",
       "      <th>Year-Of-Publication</th>\n",
       "      <th>Publisher</th>\n",
       "      <th>Image-URL-S</th>\n",
       "      <th>Image-URL-M</th>\n",
       "      <th>Image-URL-L</th>\n",
       "      <th>User-ID</th>\n",
       "      <th>Book-Rating</th>\n",
       "    </tr>\n",
       "  </thead>\n",
       "  <tbody>\n",
       "    <tr>\n",
       "      <th>0</th>\n",
       "      <td>0195153448</td>\n",
       "      <td>Classical Mythology</td>\n",
       "      <td>Mark P. O. Morford</td>\n",
       "      <td>2002</td>\n",
       "      <td>Oxford University Press</td>\n",
       "      <td>http://images.amazon.com/images/P/0195153448.0...</td>\n",
       "      <td>http://images.amazon.com/images/P/0195153448.0...</td>\n",
       "      <td>http://images.amazon.com/images/P/0195153448.0...</td>\n",
       "      <td>2</td>\n",
       "      <td>0</td>\n",
       "    </tr>\n",
       "    <tr>\n",
       "      <th>1</th>\n",
       "      <td>0002005018</td>\n",
       "      <td>Clara Callan</td>\n",
       "      <td>Richard Bruce Wright</td>\n",
       "      <td>2001</td>\n",
       "      <td>HarperFlamingo Canada</td>\n",
       "      <td>http://images.amazon.com/images/P/0002005018.0...</td>\n",
       "      <td>http://images.amazon.com/images/P/0002005018.0...</td>\n",
       "      <td>http://images.amazon.com/images/P/0002005018.0...</td>\n",
       "      <td>8</td>\n",
       "      <td>5</td>\n",
       "    </tr>\n",
       "    <tr>\n",
       "      <th>2</th>\n",
       "      <td>0002005018</td>\n",
       "      <td>Clara Callan</td>\n",
       "      <td>Richard Bruce Wright</td>\n",
       "      <td>2001</td>\n",
       "      <td>HarperFlamingo Canada</td>\n",
       "      <td>http://images.amazon.com/images/P/0002005018.0...</td>\n",
       "      <td>http://images.amazon.com/images/P/0002005018.0...</td>\n",
       "      <td>http://images.amazon.com/images/P/0002005018.0...</td>\n",
       "      <td>11400</td>\n",
       "      <td>0</td>\n",
       "    </tr>\n",
       "    <tr>\n",
       "      <th>3</th>\n",
       "      <td>0002005018</td>\n",
       "      <td>Clara Callan</td>\n",
       "      <td>Richard Bruce Wright</td>\n",
       "      <td>2001</td>\n",
       "      <td>HarperFlamingo Canada</td>\n",
       "      <td>http://images.amazon.com/images/P/0002005018.0...</td>\n",
       "      <td>http://images.amazon.com/images/P/0002005018.0...</td>\n",
       "      <td>http://images.amazon.com/images/P/0002005018.0...</td>\n",
       "      <td>11676</td>\n",
       "      <td>8</td>\n",
       "    </tr>\n",
       "    <tr>\n",
       "      <th>4</th>\n",
       "      <td>0002005018</td>\n",
       "      <td>Clara Callan</td>\n",
       "      <td>Richard Bruce Wright</td>\n",
       "      <td>2001</td>\n",
       "      <td>HarperFlamingo Canada</td>\n",
       "      <td>http://images.amazon.com/images/P/0002005018.0...</td>\n",
       "      <td>http://images.amazon.com/images/P/0002005018.0...</td>\n",
       "      <td>http://images.amazon.com/images/P/0002005018.0...</td>\n",
       "      <td>41385</td>\n",
       "      <td>0</td>\n",
       "    </tr>\n",
       "  </tbody>\n",
       "</table>\n",
       "</div>"
      ],
      "text/plain": [
       "         ISBN           Book-Title           Book-Author Year-Of-Publication  \\\n",
       "0  0195153448  Classical Mythology    Mark P. O. Morford                2002   \n",
       "1  0002005018         Clara Callan  Richard Bruce Wright                2001   \n",
       "2  0002005018         Clara Callan  Richard Bruce Wright                2001   \n",
       "3  0002005018         Clara Callan  Richard Bruce Wright                2001   \n",
       "4  0002005018         Clara Callan  Richard Bruce Wright                2001   \n",
       "\n",
       "                 Publisher                                        Image-URL-S  \\\n",
       "0  Oxford University Press  http://images.amazon.com/images/P/0195153448.0...   \n",
       "1    HarperFlamingo Canada  http://images.amazon.com/images/P/0002005018.0...   \n",
       "2    HarperFlamingo Canada  http://images.amazon.com/images/P/0002005018.0...   \n",
       "3    HarperFlamingo Canada  http://images.amazon.com/images/P/0002005018.0...   \n",
       "4    HarperFlamingo Canada  http://images.amazon.com/images/P/0002005018.0...   \n",
       "\n",
       "                                         Image-URL-M  \\\n",
       "0  http://images.amazon.com/images/P/0195153448.0...   \n",
       "1  http://images.amazon.com/images/P/0002005018.0...   \n",
       "2  http://images.amazon.com/images/P/0002005018.0...   \n",
       "3  http://images.amazon.com/images/P/0002005018.0...   \n",
       "4  http://images.amazon.com/images/P/0002005018.0...   \n",
       "\n",
       "                                         Image-URL-L  User-ID  Book-Rating  \n",
       "0  http://images.amazon.com/images/P/0195153448.0...        2            0  \n",
       "1  http://images.amazon.com/images/P/0002005018.0...        8            5  \n",
       "2  http://images.amazon.com/images/P/0002005018.0...    11400            0  \n",
       "3  http://images.amazon.com/images/P/0002005018.0...    11676            8  \n",
       "4  http://images.amazon.com/images/P/0002005018.0...    41385            0  "
      ]
     },
     "execution_count": 21,
     "metadata": {},
     "output_type": "execute_result"
    }
   ],
   "source": [
    "#Merging Tables based on common columns\n",
    "db1=pd.merge(books, ratings, on='ISBN', how='inner')\n",
    "db1.head()"
   ]
  },
  {
   "cell_type": "code",
   "execution_count": 22,
   "id": "ac7c06d8",
   "metadata": {},
   "outputs": [],
   "source": [
    "data=pd.merge(db1,users, on ='User-ID', how ='inner')"
   ]
  },
  {
   "cell_type": "code",
   "execution_count": 23,
   "id": "d11a63f8",
   "metadata": {},
   "outputs": [
    {
     "data": {
      "text/plain": [
       "(1031136, 12)"
      ]
     },
     "execution_count": 23,
     "metadata": {},
     "output_type": "execute_result"
    }
   ],
   "source": [
    "data.shape"
   ]
  },
  {
   "cell_type": "code",
   "execution_count": 24,
   "id": "6aaee40f",
   "metadata": {},
   "outputs": [
    {
     "data": {
      "text/plain": [
       "ISBN                   0\n",
       "Book-Title             0\n",
       "Book-Author            0\n",
       "Year-Of-Publication    0\n",
       "Publisher              0\n",
       "Image-URL-S            0\n",
       "Image-URL-M            0\n",
       "Image-URL-L            0\n",
       "User-ID                0\n",
       "Book-Rating            0\n",
       "Location               0\n",
       "Age                    0\n",
       "dtype: int64"
      ]
     },
     "execution_count": 24,
     "metadata": {},
     "output_type": "execute_result"
    }
   ],
   "source": [
    "data.isnull().sum()"
   ]
  },
  {
   "cell_type": "code",
   "execution_count": 25,
   "id": "28586534",
   "metadata": {},
   "outputs": [
    {
     "data": {
      "text/plain": [
       "0"
      ]
     },
     "execution_count": 25,
     "metadata": {},
     "output_type": "execute_result"
    }
   ],
   "source": [
    "data.duplicated().sum()"
   ]
  },
  {
   "cell_type": "code",
   "execution_count": 26,
   "id": "7ca66db0",
   "metadata": {},
   "outputs": [
    {
     "data": {
      "text/html": [
       "<div>\n",
       "<style scoped>\n",
       "    .dataframe tbody tr th:only-of-type {\n",
       "        vertical-align: middle;\n",
       "    }\n",
       "\n",
       "    .dataframe tbody tr th {\n",
       "        vertical-align: top;\n",
       "    }\n",
       "\n",
       "    .dataframe thead th {\n",
       "        text-align: right;\n",
       "    }\n",
       "</style>\n",
       "<table border=\"1\" class=\"dataframe\">\n",
       "  <thead>\n",
       "    <tr style=\"text-align: right;\">\n",
       "      <th></th>\n",
       "      <th>ISBN</th>\n",
       "      <th>Book-Title</th>\n",
       "      <th>Book-Author</th>\n",
       "      <th>Year-Of-Publication</th>\n",
       "      <th>Publisher</th>\n",
       "      <th>Image-URL-S</th>\n",
       "      <th>Image-URL-M</th>\n",
       "      <th>Image-URL-L</th>\n",
       "      <th>User-ID</th>\n",
       "      <th>Book-Rating</th>\n",
       "      <th>Location</th>\n",
       "      <th>Age</th>\n",
       "    </tr>\n",
       "  </thead>\n",
       "  <tbody>\n",
       "    <tr>\n",
       "      <th>0</th>\n",
       "      <td>0195153448</td>\n",
       "      <td>Classical Mythology</td>\n",
       "      <td>Mark P. O. Morford</td>\n",
       "      <td>2002</td>\n",
       "      <td>Oxford University Press</td>\n",
       "      <td>http://images.amazon.com/images/P/0195153448.0...</td>\n",
       "      <td>http://images.amazon.com/images/P/0195153448.0...</td>\n",
       "      <td>http://images.amazon.com/images/P/0195153448.0...</td>\n",
       "      <td>2</td>\n",
       "      <td>0</td>\n",
       "      <td>stockton, california, usa</td>\n",
       "      <td>18.0</td>\n",
       "    </tr>\n",
       "    <tr>\n",
       "      <th>1</th>\n",
       "      <td>0002005018</td>\n",
       "      <td>Clara Callan</td>\n",
       "      <td>Richard Bruce Wright</td>\n",
       "      <td>2001</td>\n",
       "      <td>HarperFlamingo Canada</td>\n",
       "      <td>http://images.amazon.com/images/P/0002005018.0...</td>\n",
       "      <td>http://images.amazon.com/images/P/0002005018.0...</td>\n",
       "      <td>http://images.amazon.com/images/P/0002005018.0...</td>\n",
       "      <td>8</td>\n",
       "      <td>5</td>\n",
       "      <td>timmins, ontario, canada</td>\n",
       "      <td>32.0</td>\n",
       "    </tr>\n",
       "    <tr>\n",
       "      <th>2</th>\n",
       "      <td>0060973129</td>\n",
       "      <td>Decision in Normandy</td>\n",
       "      <td>Carlo D'Este</td>\n",
       "      <td>1991</td>\n",
       "      <td>HarperPerennial</td>\n",
       "      <td>http://images.amazon.com/images/P/0060973129.0...</td>\n",
       "      <td>http://images.amazon.com/images/P/0060973129.0...</td>\n",
       "      <td>http://images.amazon.com/images/P/0060973129.0...</td>\n",
       "      <td>8</td>\n",
       "      <td>0</td>\n",
       "      <td>timmins, ontario, canada</td>\n",
       "      <td>32.0</td>\n",
       "    </tr>\n",
       "    <tr>\n",
       "      <th>3</th>\n",
       "      <td>0374157065</td>\n",
       "      <td>Flu: The Story of the Great Influenza Pandemic...</td>\n",
       "      <td>Gina Bari Kolata</td>\n",
       "      <td>1999</td>\n",
       "      <td>Farrar Straus Giroux</td>\n",
       "      <td>http://images.amazon.com/images/P/0374157065.0...</td>\n",
       "      <td>http://images.amazon.com/images/P/0374157065.0...</td>\n",
       "      <td>http://images.amazon.com/images/P/0374157065.0...</td>\n",
       "      <td>8</td>\n",
       "      <td>0</td>\n",
       "      <td>timmins, ontario, canada</td>\n",
       "      <td>32.0</td>\n",
       "    </tr>\n",
       "    <tr>\n",
       "      <th>4</th>\n",
       "      <td>0393045218</td>\n",
       "      <td>The Mummies of Urumchi</td>\n",
       "      <td>E. J. W. Barber</td>\n",
       "      <td>1999</td>\n",
       "      <td>W. W. Norton &amp;amp; Company</td>\n",
       "      <td>http://images.amazon.com/images/P/0393045218.0...</td>\n",
       "      <td>http://images.amazon.com/images/P/0393045218.0...</td>\n",
       "      <td>http://images.amazon.com/images/P/0393045218.0...</td>\n",
       "      <td>8</td>\n",
       "      <td>0</td>\n",
       "      <td>timmins, ontario, canada</td>\n",
       "      <td>32.0</td>\n",
       "    </tr>\n",
       "  </tbody>\n",
       "</table>\n",
       "</div>"
      ],
      "text/plain": [
       "         ISBN                                         Book-Title  \\\n",
       "0  0195153448                                Classical Mythology   \n",
       "1  0002005018                                       Clara Callan   \n",
       "2  0060973129                               Decision in Normandy   \n",
       "3  0374157065  Flu: The Story of the Great Influenza Pandemic...   \n",
       "4  0393045218                             The Mummies of Urumchi   \n",
       "\n",
       "            Book-Author Year-Of-Publication                   Publisher  \\\n",
       "0    Mark P. O. Morford                2002     Oxford University Press   \n",
       "1  Richard Bruce Wright                2001       HarperFlamingo Canada   \n",
       "2          Carlo D'Este                1991             HarperPerennial   \n",
       "3      Gina Bari Kolata                1999        Farrar Straus Giroux   \n",
       "4       E. J. W. Barber                1999  W. W. Norton &amp; Company   \n",
       "\n",
       "                                         Image-URL-S  \\\n",
       "0  http://images.amazon.com/images/P/0195153448.0...   \n",
       "1  http://images.amazon.com/images/P/0002005018.0...   \n",
       "2  http://images.amazon.com/images/P/0060973129.0...   \n",
       "3  http://images.amazon.com/images/P/0374157065.0...   \n",
       "4  http://images.amazon.com/images/P/0393045218.0...   \n",
       "\n",
       "                                         Image-URL-M  \\\n",
       "0  http://images.amazon.com/images/P/0195153448.0...   \n",
       "1  http://images.amazon.com/images/P/0002005018.0...   \n",
       "2  http://images.amazon.com/images/P/0060973129.0...   \n",
       "3  http://images.amazon.com/images/P/0374157065.0...   \n",
       "4  http://images.amazon.com/images/P/0393045218.0...   \n",
       "\n",
       "                                         Image-URL-L  User-ID  Book-Rating  \\\n",
       "0  http://images.amazon.com/images/P/0195153448.0...        2            0   \n",
       "1  http://images.amazon.com/images/P/0002005018.0...        8            5   \n",
       "2  http://images.amazon.com/images/P/0060973129.0...        8            0   \n",
       "3  http://images.amazon.com/images/P/0374157065.0...        8            0   \n",
       "4  http://images.amazon.com/images/P/0393045218.0...        8            0   \n",
       "\n",
       "                    Location   Age  \n",
       "0  stockton, california, usa  18.0  \n",
       "1   timmins, ontario, canada  32.0  \n",
       "2   timmins, ontario, canada  32.0  \n",
       "3   timmins, ontario, canada  32.0  \n",
       "4   timmins, ontario, canada  32.0  "
      ]
     },
     "execution_count": 26,
     "metadata": {},
     "output_type": "execute_result"
    }
   ],
   "source": [
    "data.head()"
   ]
  },
  {
   "cell_type": "code",
   "execution_count": 27,
   "id": "5b134fd1",
   "metadata": {},
   "outputs": [
    {
     "data": {
      "text/html": [
       "<div>\n",
       "<style scoped>\n",
       "    .dataframe tbody tr th:only-of-type {\n",
       "        vertical-align: middle;\n",
       "    }\n",
       "\n",
       "    .dataframe tbody tr th {\n",
       "        vertical-align: top;\n",
       "    }\n",
       "\n",
       "    .dataframe thead th {\n",
       "        text-align: right;\n",
       "    }\n",
       "</style>\n",
       "<table border=\"1\" class=\"dataframe\">\n",
       "  <thead>\n",
       "    <tr style=\"text-align: right;\">\n",
       "      <th></th>\n",
       "      <th>User-ID</th>\n",
       "      <th>Book-Rating</th>\n",
       "      <th>Age</th>\n",
       "    </tr>\n",
       "  </thead>\n",
       "  <tbody>\n",
       "    <tr>\n",
       "      <th>count</th>\n",
       "      <td>1.031136e+06</td>\n",
       "      <td>1.031136e+06</td>\n",
       "      <td>1.031136e+06</td>\n",
       "    </tr>\n",
       "    <tr>\n",
       "      <th>mean</th>\n",
       "      <td>1.405945e+05</td>\n",
       "      <td>2.839051e+00</td>\n",
       "      <td>3.594328e+01</td>\n",
       "    </tr>\n",
       "    <tr>\n",
       "      <th>std</th>\n",
       "      <td>8.052466e+04</td>\n",
       "      <td>3.854157e+00</td>\n",
       "      <td>1.228579e+01</td>\n",
       "    </tr>\n",
       "    <tr>\n",
       "      <th>min</th>\n",
       "      <td>2.000000e+00</td>\n",
       "      <td>0.000000e+00</td>\n",
       "      <td>0.000000e+00</td>\n",
       "    </tr>\n",
       "    <tr>\n",
       "      <th>25%</th>\n",
       "      <td>7.041500e+04</td>\n",
       "      <td>0.000000e+00</td>\n",
       "      <td>3.100000e+01</td>\n",
       "    </tr>\n",
       "    <tr>\n",
       "      <th>50%</th>\n",
       "      <td>1.412100e+05</td>\n",
       "      <td>0.000000e+00</td>\n",
       "      <td>3.200000e+01</td>\n",
       "    </tr>\n",
       "    <tr>\n",
       "      <th>75%</th>\n",
       "      <td>2.114260e+05</td>\n",
       "      <td>7.000000e+00</td>\n",
       "      <td>4.100000e+01</td>\n",
       "    </tr>\n",
       "    <tr>\n",
       "      <th>max</th>\n",
       "      <td>2.788540e+05</td>\n",
       "      <td>1.000000e+01</td>\n",
       "      <td>2.440000e+02</td>\n",
       "    </tr>\n",
       "  </tbody>\n",
       "</table>\n",
       "</div>"
      ],
      "text/plain": [
       "            User-ID   Book-Rating           Age\n",
       "count  1.031136e+06  1.031136e+06  1.031136e+06\n",
       "mean   1.405945e+05  2.839051e+00  3.594328e+01\n",
       "std    8.052466e+04  3.854157e+00  1.228579e+01\n",
       "min    2.000000e+00  0.000000e+00  0.000000e+00\n",
       "25%    7.041500e+04  0.000000e+00  3.100000e+01\n",
       "50%    1.412100e+05  0.000000e+00  3.200000e+01\n",
       "75%    2.114260e+05  7.000000e+00  4.100000e+01\n",
       "max    2.788540e+05  1.000000e+01  2.440000e+02"
      ]
     },
     "execution_count": 27,
     "metadata": {},
     "output_type": "execute_result"
    }
   ],
   "source": [
    "data.describe()"
   ]
  },
  {
   "cell_type": "code",
   "execution_count": 28,
   "id": "170eae28",
   "metadata": {},
   "outputs": [
    {
     "name": "stdout",
     "output_type": "stream",
     "text": [
      "<class 'pandas.core.frame.DataFrame'>\n",
      "Int64Index: 1031136 entries, 0 to 1031135\n",
      "Data columns (total 12 columns):\n",
      " #   Column               Non-Null Count    Dtype  \n",
      "---  ------               --------------    -----  \n",
      " 0   ISBN                 1031136 non-null  object \n",
      " 1   Book-Title           1031136 non-null  object \n",
      " 2   Book-Author          1031136 non-null  object \n",
      " 3   Year-Of-Publication  1031136 non-null  object \n",
      " 4   Publisher            1031136 non-null  object \n",
      " 5   Image-URL-S          1031136 non-null  object \n",
      " 6   Image-URL-M          1031136 non-null  object \n",
      " 7   Image-URL-L          1031136 non-null  object \n",
      " 8   User-ID              1031136 non-null  int64  \n",
      " 9   Book-Rating          1031136 non-null  int64  \n",
      " 10  Location             1031136 non-null  object \n",
      " 11  Age                  1031136 non-null  float64\n",
      "dtypes: float64(1), int64(2), object(9)\n",
      "memory usage: 102.3+ MB\n"
     ]
    }
   ],
   "source": [
    "data.info()"
   ]
  },
  {
   "cell_type": "code",
   "execution_count": 29,
   "id": "48598462",
   "metadata": {},
   "outputs": [
    {
     "name": "stdout",
     "output_type": "stream",
     "text": [
      "158414                              The Adrian Mole Diaries\n",
      "688948                    Roses Are Red (Alex Cross Novels)\n",
      "200432            Seven Little Postmen (Little Golden Book)\n",
      "539911    Collected Poems: Edited by Frank Bidart and Da...\n",
      "731866                                        Cryptonomicon\n",
      "200433                 The Truck Book (Best Book Club Ever)\n",
      "835040                        One Hundred Years of Solitude\n",
      "200434                                     Rehearsal's Off!\n",
      "228630                                        Kill Me Again\n",
      "560933                        Complete Chronicles of Narnia\n",
      "305355    The Bad Beginning (A Series of Unfortunate Eve...\n",
      "688949                                  1st to Die: A Novel\n",
      "938631                     The Last Time They Met : A Novel\n",
      "200437    The Salmon of Doubt: Hitchhiking the Galaxy On...\n",
      "873771                                         Black Friday\n",
      "582683                            James and the Giant Peach\n",
      "539912    Unholy Wars : Afghanistan, America and Interna...\n",
      "305358         Where the Sidewalk Ends : Poems and Drawings\n",
      "508379         The Wrong Man (Harlequin Superromance, 1191)\n",
      "265191                      AGE OF INNOCENCE (MOVIE TIE-IN)\n",
      "Name: Book-Title, dtype: object\n"
     ]
    }
   ],
   "source": [
    "# Sort the dataset by rating in descending order and select the top 20 books\n",
    "top_20_books = data.sort_values(by='Book-Rating', ascending=False).head(20)\n",
    "\n",
    "# Display the top 20 books\n",
    "print(top_20_books['Book-Title'])"
   ]
  },
  {
   "cell_type": "code",
   "execution_count": 30,
   "id": "872e8e50",
   "metadata": {},
   "outputs": [
    {
     "data": {
      "image/png": "[encoded data removed]",
      "text/plain": [
       "<Figure size 1000x600 with 1 Axes>"
      ]
     },
     "metadata": {},
     "output_type": "display_data"
    }
   ],
   "source": [
    "#Top 20 Books by Rating - plot\n",
    "plt.figure(figsize=(10, 6))\n",
    "plt.bar(top_20_books['Book-Title'], top_20_books['Book-Rating'])\n",
    "plt.xlabel('Book-Title')\n",
    "plt.ylabel('Book-Rating')\n",
    "plt.title('Top 20 Books by Rating')\n",
    "plt.xticks(rotation=90)\n",
    "plt.tight_layout()\n",
    "plt.show()"
   ]
  },
  {
   "cell_type": "code",
   "execution_count": 31,
   "id": "d3ae4e46",
   "metadata": {},
   "outputs": [],
   "source": [
    "# Group data by user and count the number of books each user has read\n",
    "user_book_count = data.groupby('User-ID').size().reset_index(name='Book-Title')"
   ]
  },
  {
   "cell_type": "code",
   "execution_count": 32,
   "id": "83f741ed",
   "metadata": {},
   "outputs": [],
   "source": [
    "# Sort users based on the number of books read in descending order\n",
    "top_100_users = user_book_count.sort_values(by='Book-Title', ascending=False).head(100)"
   ]
  },
  {
   "cell_type": "code",
   "execution_count": 33,
   "id": "189d1fdb",
   "metadata": {},
   "outputs": [
    {
     "name": "stdout",
     "output_type": "stream",
     "text": [
      "       User-ID  Book-Title\n",
      "3629     11676       11144\n",
      "65332   198711        6456\n",
      "50848   153662        5814\n",
      "32581    98391        5779\n",
      "11848    35859        5646\n",
      "...        ...         ...\n",
      "77393   234828        1084\n",
      "11847    35857        1081\n",
      "74150   225087        1063\n",
      "51621   156150        1059\n",
      "35647   107784        1052\n",
      "\n",
      "[100 rows x 2 columns]\n"
     ]
    }
   ],
   "source": [
    "print(top_100_users)"
   ]
  },
  {
   "cell_type": "code",
   "execution_count": 34,
   "id": "b205f69a",
   "metadata": {},
   "outputs": [
    {
     "data": {
      "text/plain": [
       "ISBN                    object\n",
       "Book-Title              object\n",
       "Book-Author             object\n",
       "Year-Of-Publication     object\n",
       "Publisher               object\n",
       "Image-URL-S             object\n",
       "Image-URL-M             object\n",
       "Image-URL-L             object\n",
       "User-ID                  int64\n",
       "Book-Rating              int64\n",
       "Location                object\n",
       "Age                    float64\n",
       "dtype: object"
      ]
     },
     "execution_count": 34,
     "metadata": {},
     "output_type": "execute_result"
    }
   ],
   "source": [
    "data.dtypes"
   ]
  },
  {
   "cell_type": "markdown",
   "id": "dca582bd",
   "metadata": {},
   "source": [
    "# Book-Rating"
   ]
  },
  {
   "cell_type": "code",
   "execution_count": 35,
   "id": "d2e1f0da",
   "metadata": {},
   "outputs": [
    {
     "data": {
      "image/png": "[encoded data removed]",
      "text/plain": [
       "<Figure size 800x600 with 1 Axes>"
      ]
     },
     "metadata": {},
     "output_type": "display_data"
    },
    {
     "name": "stdout",
     "output_type": "stream",
     "text": [
      "Shape of all merged Columns : (1031136, 12)\n"
     ]
    }
   ],
   "source": [
    "data['Book-Rating'].hist(figsize=(8,6))\n",
    "plt.show()\n",
    "print(f\"Shape of all merged Columns : {data.shape}\")"
   ]
  },
  {
   "cell_type": "code",
   "execution_count": 36,
   "id": "bdd01f0a",
   "metadata": {},
   "outputs": [],
   "source": [
    "# Count the ratings\n",
    "implicit_count = (data['Book-Rating'] == 0).sum()\n",
    "explicit_count = (data['Book-Rating'] > 0).sum()"
   ]
  },
  {
   "cell_type": "code",
   "execution_count": 37,
   "id": "c8a0af62",
   "metadata": {},
   "outputs": [],
   "source": [
    "counts_rating = pd.DataFrame(\n",
    "    {\n",
    "    'Rating_Type': ['implicit', 'explicit'],\n",
    "    'Count': [implicit_count, explicit_count]\n",
    "    })"
   ]
  },
  {
   "cell_type": "code",
   "execution_count": 38,
   "id": "27e6847d",
   "metadata": {},
   "outputs": [
    {
     "name": "stdout",
     "output_type": "stream",
     "text": [
      "  Rating_Type   Count\n",
      "0    implicit  647294\n",
      "1    explicit  383842\n"
     ]
    }
   ],
   "source": [
    "print(counts_rating)"
   ]
  },
  {
   "cell_type": "code",
   "execution_count": 39,
   "id": "67db2454",
   "metadata": {},
   "outputs": [
    {
     "data": {
      "text/html": [
       "<div>\n",
       "<style scoped>\n",
       "    .dataframe tbody tr th:only-of-type {\n",
       "        vertical-align: middle;\n",
       "    }\n",
       "\n",
       "    .dataframe tbody tr th {\n",
       "        vertical-align: top;\n",
       "    }\n",
       "\n",
       "    .dataframe thead th {\n",
       "        text-align: right;\n",
       "    }\n",
       "</style>\n",
       "<table border=\"1\" class=\"dataframe\">\n",
       "  <thead>\n",
       "    <tr style=\"text-align: right;\">\n",
       "      <th></th>\n",
       "      <th>ISBN</th>\n",
       "      <th>Book-Title</th>\n",
       "      <th>Book-Author</th>\n",
       "      <th>Year-Of-Publication</th>\n",
       "      <th>Publisher</th>\n",
       "      <th>Image-URL-S</th>\n",
       "      <th>Image-URL-M</th>\n",
       "      <th>Image-URL-L</th>\n",
       "      <th>User-ID</th>\n",
       "      <th>Book-Rating</th>\n",
       "      <th>Location</th>\n",
       "      <th>Age</th>\n",
       "    </tr>\n",
       "  </thead>\n",
       "  <tbody>\n",
       "    <tr>\n",
       "      <th>1</th>\n",
       "      <td>0002005018</td>\n",
       "      <td>Clara Callan</td>\n",
       "      <td>Richard Bruce Wright</td>\n",
       "      <td>2001</td>\n",
       "      <td>HarperFlamingo Canada</td>\n",
       "      <td>http://images.amazon.com/images/P/0002005018.0...</td>\n",
       "      <td>http://images.amazon.com/images/P/0002005018.0...</td>\n",
       "      <td>http://images.amazon.com/images/P/0002005018.0...</td>\n",
       "      <td>8</td>\n",
       "      <td>5</td>\n",
       "      <td>timmins, ontario, canada</td>\n",
       "      <td>32.0</td>\n",
       "    </tr>\n",
       "    <tr>\n",
       "      <th>9</th>\n",
       "      <td>074322678X</td>\n",
       "      <td>Where You'll Find Me: And Other Stories</td>\n",
       "      <td>Ann Beattie</td>\n",
       "      <td>2002</td>\n",
       "      <td>Scribner</td>\n",
       "      <td>http://images.amazon.com/images/P/074322678X.0...</td>\n",
       "      <td>http://images.amazon.com/images/P/074322678X.0...</td>\n",
       "      <td>http://images.amazon.com/images/P/074322678X.0...</td>\n",
       "      <td>8</td>\n",
       "      <td>5</td>\n",
       "      <td>timmins, ontario, canada</td>\n",
       "      <td>32.0</td>\n",
       "    </tr>\n",
       "    <tr>\n",
       "      <th>12</th>\n",
       "      <td>0887841740</td>\n",
       "      <td>The Middle Stories</td>\n",
       "      <td>Sheila Heti</td>\n",
       "      <td>2004</td>\n",
       "      <td>House of Anansi Press</td>\n",
       "      <td>http://images.amazon.com/images/P/0887841740.0...</td>\n",
       "      <td>http://images.amazon.com/images/P/0887841740.0...</td>\n",
       "      <td>http://images.amazon.com/images/P/0887841740.0...</td>\n",
       "      <td>8</td>\n",
       "      <td>5</td>\n",
       "      <td>timmins, ontario, canada</td>\n",
       "      <td>32.0</td>\n",
       "    </tr>\n",
       "    <tr>\n",
       "      <th>13</th>\n",
       "      <td>1552041778</td>\n",
       "      <td>Jane Doe</td>\n",
       "      <td>R. J. Kaiser</td>\n",
       "      <td>1999</td>\n",
       "      <td>Mira Books</td>\n",
       "      <td>http://images.amazon.com/images/P/1552041778.0...</td>\n",
       "      <td>http://images.amazon.com/images/P/1552041778.0...</td>\n",
       "      <td>http://images.amazon.com/images/P/1552041778.0...</td>\n",
       "      <td>8</td>\n",
       "      <td>5</td>\n",
       "      <td>timmins, ontario, canada</td>\n",
       "      <td>32.0</td>\n",
       "    </tr>\n",
       "    <tr>\n",
       "      <th>15</th>\n",
       "      <td>1567407781</td>\n",
       "      <td>The Witchfinder (Amos Walker Mystery Series)</td>\n",
       "      <td>Loren D. Estleman</td>\n",
       "      <td>1998</td>\n",
       "      <td>Brilliance Audio - Trade</td>\n",
       "      <td>http://images.amazon.com/images/P/1567407781.0...</td>\n",
       "      <td>http://images.amazon.com/images/P/1567407781.0...</td>\n",
       "      <td>http://images.amazon.com/images/P/1567407781.0...</td>\n",
       "      <td>8</td>\n",
       "      <td>6</td>\n",
       "      <td>timmins, ontario, canada</td>\n",
       "      <td>32.0</td>\n",
       "    </tr>\n",
       "    <tr>\n",
       "      <th>...</th>\n",
       "      <td>...</td>\n",
       "      <td>...</td>\n",
       "      <td>...</td>\n",
       "      <td>...</td>\n",
       "      <td>...</td>\n",
       "      <td>...</td>\n",
       "      <td>...</td>\n",
       "      <td>...</td>\n",
       "      <td>...</td>\n",
       "      <td>...</td>\n",
       "      <td>...</td>\n",
       "      <td>...</td>\n",
       "    </tr>\n",
       "    <tr>\n",
       "      <th>1031129</th>\n",
       "      <td>8441407487</td>\n",
       "      <td>Sobre La Utilidad y Los Perjuicios de La Historia</td>\n",
       "      <td>Friedrich Wilhelm Nietzsche</td>\n",
       "      <td>2000</td>\n",
       "      <td>Edaf</td>\n",
       "      <td>http://images.amazon.com/images/P/8441407487.0...</td>\n",
       "      <td>http://images.amazon.com/images/P/8441407487.0...</td>\n",
       "      <td>http://images.amazon.com/images/P/8441407487.0...</td>\n",
       "      <td>246590</td>\n",
       "      <td>6</td>\n",
       "      <td>madrid, madrid, spain</td>\n",
       "      <td>20.0</td>\n",
       "    </tr>\n",
       "    <tr>\n",
       "      <th>1031131</th>\n",
       "      <td>087004124X</td>\n",
       "      <td>Anthem</td>\n",
       "      <td>Ayn Rand</td>\n",
       "      <td>1966</td>\n",
       "      <td>Caxton Press</td>\n",
       "      <td>http://images.amazon.com/images/P/087004124X.0...</td>\n",
       "      <td>http://images.amazon.com/images/P/087004124X.0...</td>\n",
       "      <td>http://images.amazon.com/images/P/087004124X.0...</td>\n",
       "      <td>259589</td>\n",
       "      <td>8</td>\n",
       "      <td>venice, florida, usa</td>\n",
       "      <td>19.0</td>\n",
       "    </tr>\n",
       "    <tr>\n",
       "      <th>1031132</th>\n",
       "      <td>158243123X</td>\n",
       "      <td>A Student of Weather</td>\n",
       "      <td>Elizabeth Hay</td>\n",
       "      <td>2001</td>\n",
       "      <td>Counterpoint Press</td>\n",
       "      <td>http://images.amazon.com/images/P/158243123X.0...</td>\n",
       "      <td>http://images.amazon.com/images/P/158243123X.0...</td>\n",
       "      <td>http://images.amazon.com/images/P/158243123X.0...</td>\n",
       "      <td>259591</td>\n",
       "      <td>8</td>\n",
       "      <td>tioga, pennsylvania, usa</td>\n",
       "      <td>39.0</td>\n",
       "    </tr>\n",
       "    <tr>\n",
       "      <th>1031133</th>\n",
       "      <td>8485900057</td>\n",
       "      <td>Rimas y leyendas (Clásicos Fraile ; 3)</td>\n",
       "      <td>Gustavo Adolfo Bécquer</td>\n",
       "      <td>1981</td>\n",
       "      <td>Ediciones Fraile</td>\n",
       "      <td>http://images.amazon.com/images/P/8485900057.0...</td>\n",
       "      <td>http://images.amazon.com/images/P/8485900057.0...</td>\n",
       "      <td>http://images.amazon.com/images/P/8485900057.0...</td>\n",
       "      <td>259614</td>\n",
       "      <td>10</td>\n",
       "      <td>madrid, madrid, spain</td>\n",
       "      <td>22.0</td>\n",
       "    </tr>\n",
       "    <tr>\n",
       "      <th>1031134</th>\n",
       "      <td>0838934854</td>\n",
       "      <td>Anglo-American Cataloguing Rules</td>\n",
       "      <td>Michael Gorman</td>\n",
       "      <td>1998</td>\n",
       "      <td>American Library Association</td>\n",
       "      <td>http://images.amazon.com/images/P/0838934854.0...</td>\n",
       "      <td>http://images.amazon.com/images/P/0838934854.0...</td>\n",
       "      <td>http://images.amazon.com/images/P/0838934854.0...</td>\n",
       "      <td>259679</td>\n",
       "      <td>6</td>\n",
       "      <td>grand prairie, texas, usa</td>\n",
       "      <td>27.0</td>\n",
       "    </tr>\n",
       "  </tbody>\n",
       "</table>\n",
       "<p>383842 rows × 12 columns</p>\n",
       "</div>"
      ],
      "text/plain": [
       "               ISBN                                         Book-Title  \\\n",
       "1        0002005018                                       Clara Callan   \n",
       "9        074322678X            Where You'll Find Me: And Other Stories   \n",
       "12       0887841740                                 The Middle Stories   \n",
       "13       1552041778                                           Jane Doe   \n",
       "15       1567407781       The Witchfinder (Amos Walker Mystery Series)   \n",
       "...             ...                                                ...   \n",
       "1031129  8441407487  Sobre La Utilidad y Los Perjuicios de La Historia   \n",
       "1031131  087004124X                                             Anthem   \n",
       "1031132  158243123X                               A Student of Weather   \n",
       "1031133  8485900057             Rimas y leyendas (Clásicos Fraile ; 3)   \n",
       "1031134  0838934854                   Anglo-American Cataloguing Rules   \n",
       "\n",
       "                         Book-Author Year-Of-Publication  \\\n",
       "1               Richard Bruce Wright                2001   \n",
       "9                        Ann Beattie                2002   \n",
       "12                       Sheila Heti                2004   \n",
       "13                      R. J. Kaiser                1999   \n",
       "15                 Loren D. Estleman                1998   \n",
       "...                              ...                 ...   \n",
       "1031129  Friedrich Wilhelm Nietzsche                2000   \n",
       "1031131                     Ayn Rand                1966   \n",
       "1031132                Elizabeth Hay                2001   \n",
       "1031133       Gustavo Adolfo Bécquer                1981   \n",
       "1031134               Michael Gorman                1998   \n",
       "\n",
       "                            Publisher  \\\n",
       "1               HarperFlamingo Canada   \n",
       "9                            Scribner   \n",
       "12              House of Anansi Press   \n",
       "13                         Mira Books   \n",
       "15           Brilliance Audio - Trade   \n",
       "...                               ...   \n",
       "1031129                          Edaf   \n",
       "1031131                  Caxton Press   \n",
       "1031132            Counterpoint Press   \n",
       "1031133              Ediciones Fraile   \n",
       "1031134  American Library Association   \n",
       "\n",
       "                                               Image-URL-S  \\\n",
       "1        http://images.amazon.com/images/P/0002005018.0...   \n",
       "9        http://images.amazon.com/images/P/074322678X.0...   \n",
       "12       http://images.amazon.com/images/P/0887841740.0...   \n",
       "13       http://images.amazon.com/images/P/1552041778.0...   \n",
       "15       http://images.amazon.com/images/P/1567407781.0...   \n",
       "...                                                    ...   \n",
       "1031129  http://images.amazon.com/images/P/8441407487.0...   \n",
       "1031131  http://images.amazon.com/images/P/087004124X.0...   \n",
       "1031132  http://images.amazon.com/images/P/158243123X.0...   \n",
       "1031133  http://images.amazon.com/images/P/8485900057.0...   \n",
       "1031134  http://images.amazon.com/images/P/0838934854.0...   \n",
       "\n",
       "                                               Image-URL-M  \\\n",
       "1        http://images.amazon.com/images/P/0002005018.0...   \n",
       "9        http://images.amazon.com/images/P/074322678X.0...   \n",
       "12       http://images.amazon.com/images/P/0887841740.0...   \n",
       "13       http://images.amazon.com/images/P/1552041778.0...   \n",
       "15       http://images.amazon.com/images/P/1567407781.0...   \n",
       "...                                                    ...   \n",
       "1031129  http://images.amazon.com/images/P/8441407487.0...   \n",
       "1031131  http://images.amazon.com/images/P/087004124X.0...   \n",
       "1031132  http://images.amazon.com/images/P/158243123X.0...   \n",
       "1031133  http://images.amazon.com/images/P/8485900057.0...   \n",
       "1031134  http://images.amazon.com/images/P/0838934854.0...   \n",
       "\n",
       "                                               Image-URL-L  User-ID  \\\n",
       "1        http://images.amazon.com/images/P/0002005018.0...        8   \n",
       "9        http://images.amazon.com/images/P/074322678X.0...        8   \n",
       "12       http://images.amazon.com/images/P/0887841740.0...        8   \n",
       "13       http://images.amazon.com/images/P/1552041778.0...        8   \n",
       "15       http://images.amazon.com/images/P/1567407781.0...        8   \n",
       "...                                                    ...      ...   \n",
       "1031129  http://images.amazon.com/images/P/8441407487.0...   246590   \n",
       "1031131  http://images.amazon.com/images/P/087004124X.0...   259589   \n",
       "1031132  http://images.amazon.com/images/P/158243123X.0...   259591   \n",
       "1031133  http://images.amazon.com/images/P/8485900057.0...   259614   \n",
       "1031134  http://images.amazon.com/images/P/0838934854.0...   259679   \n",
       "\n",
       "         Book-Rating                   Location   Age  \n",
       "1                  5   timmins, ontario, canada  32.0  \n",
       "9                  5   timmins, ontario, canada  32.0  \n",
       "12                 5   timmins, ontario, canada  32.0  \n",
       "13                 5   timmins, ontario, canada  32.0  \n",
       "15                 6   timmins, ontario, canada  32.0  \n",
       "...              ...                        ...   ...  \n",
       "1031129            6      madrid, madrid, spain  20.0  \n",
       "1031131            8       venice, florida, usa  19.0  \n",
       "1031132            8   tioga, pennsylvania, usa  39.0  \n",
       "1031133           10      madrid, madrid, spain  22.0  \n",
       "1031134            6  grand prairie, texas, usa  27.0  \n",
       "\n",
       "[383842 rows x 12 columns]"
      ]
     },
     "execution_count": 39,
     "metadata": {},
     "output_type": "execute_result"
    }
   ],
   "source": [
    "#Filter the DataFrame to include only ratings from 1 to 10\n",
    "explicit_rating = data[(data['Book-Rating'] > 0) & (data['Book-Rating'] <= 10)]\n",
    "explicit_rating\n"
   ]
  },
  {
   "cell_type": "code",
   "execution_count": 40,
   "id": "e8ac06b0",
   "metadata": {},
   "outputs": [],
   "source": [
    "# Select only the 'Book-Rating' column\n",
    "book_rating = explicit_rating['Book-Rating']"
   ]
  },
  {
   "cell_type": "code",
   "execution_count": 41,
   "id": "c61ceffd",
   "metadata": {},
   "outputs": [
    {
     "data": {
      "text/plain": [
       "1           5\n",
       "9           5\n",
       "12          5\n",
       "13          5\n",
       "15          6\n",
       "           ..\n",
       "1031129     6\n",
       "1031131     8\n",
       "1031132     8\n",
       "1031133    10\n",
       "1031134     6\n",
       "Name: Book-Rating, Length: 383842, dtype: int64"
      ]
     },
     "execution_count": 41,
     "metadata": {},
     "output_type": "execute_result"
    }
   ],
   "source": [
    "book_rating"
   ]
  },
  {
   "cell_type": "code",
   "execution_count": 42,
   "id": "45286c7d",
   "metadata": {},
   "outputs": [
    {
     "data": {
      "text/plain": [
       "count    383842.000000\n",
       "mean          7.626701\n",
       "std           1.841339\n",
       "min           1.000000\n",
       "25%           7.000000\n",
       "50%           8.000000\n",
       "75%           9.000000\n",
       "max          10.000000\n",
       "Name: Book-Rating, dtype: float64"
      ]
     },
     "execution_count": 42,
     "metadata": {},
     "output_type": "execute_result"
    }
   ],
   "source": [
    "book_rating.describe()"
   ]
  },
  {
   "cell_type": "code",
   "execution_count": 43,
   "id": "7c8d48de",
   "metadata": {},
   "outputs": [
    {
     "data": {
      "text/plain": [
       "(383842,)"
      ]
     },
     "execution_count": 43,
     "metadata": {},
     "output_type": "execute_result"
    }
   ],
   "source": [
    "book_rating.shape"
   ]
  },
  {
   "cell_type": "code",
   "execution_count": 44,
   "id": "7a40f98b",
   "metadata": {},
   "outputs": [
    {
     "data": {
      "image/png": "[encoded data removed]",
      "text/plain": [
       "<Figure size 1000x600 with 1 Axes>"
      ]
     },
     "metadata": {},
     "output_type": "display_data"
    }
   ],
   "source": [
    "# Plot the distribution of ratings from 1 to 10\n",
    "plt.figure(figsize=(10, 6))\n",
    "explicit_rating['Book-Rating'].value_counts().sort_index().plot(kind='bar', color='skyblue')\n",
    "plt.xlabel('Book-Rating')\n",
    "plt.ylabel('Count')\n",
    "plt.title('Distribution of explicit book rating (1-10)')\n",
    "plt.xticks(rotation=0)\n",
    "plt.show()"
   ]
  },
  {
   "cell_type": "markdown",
   "id": "f671882e",
   "metadata": {},
   "source": [
    "# Year-Of-Publication"
   ]
  },
  {
   "cell_type": "code",
   "execution_count": 45,
   "id": "1c8f8e75",
   "metadata": {},
   "outputs": [
    {
     "name": "stdout",
     "output_type": "stream",
     "text": [
      "ISBN                    object\n",
      "Book-Title              object\n",
      "Book-Author             object\n",
      "Year-Of-Publication    float64\n",
      "Publisher               object\n",
      "Image-URL-S             object\n",
      "Image-URL-M             object\n",
      "Image-URL-L             object\n",
      "User-ID                  int64\n",
      "Book-Rating              int64\n",
      "Location                object\n",
      "Age                    float64\n",
      "dtype: object\n"
     ]
    }
   ],
   "source": [
    "# Changing the datatype from object to int\n",
    "data['Year-Of-Publication'] = pd.to_numeric(data['Year-Of-Publication'], errors='coerce')\n",
    "\n",
    "print(data.dtypes)"
   ]
  },
  {
   "cell_type": "code",
   "execution_count": 46,
   "id": "9051c742",
   "metadata": {},
   "outputs": [
    {
     "data": {
      "text/plain": [
       "array([   0., 1376., 1378., 1806., 1897., 1900., 1901., 1902., 1904.,\n",
       "       1906., 1908., 1909., 1910., 1911., 1914., 1917., 1919., 1920.,\n",
       "       1921., 1922., 1923., 1924., 1925., 1926., 1927., 1928., 1929.,\n",
       "       1930., 1931., 1932., 1933., 1934., 1935., 1936., 1937., 1938.,\n",
       "       1939., 1940., 1941., 1942., 1943., 1944., 1945., 1946., 1947.,\n",
       "       1948., 1949., 1950., 1951., 1952., 1953., 1954., 1955., 1956.,\n",
       "       1957., 1958., 1959., 1960., 1961., 1962., 1963., 1964., 1965.,\n",
       "       1966., 1967., 1968., 1969., 1970., 1971., 1972., 1973., 1974.,\n",
       "       1975., 1976., 1977., 1978., 1979., 1980., 1981., 1982., 1983.,\n",
       "       1984., 1985., 1986., 1987., 1988., 1989., 1990., 1991., 1992.,\n",
       "       1993., 1994., 1995., 1996., 1997., 1998., 1999., 2000., 2001.,\n",
       "       2002., 2003., 2004., 2005., 2006., 2008., 2010., 2011., 2012.,\n",
       "       2020., 2021., 2024., 2026., 2030., 2037., 2038., 2050.,   nan])"
      ]
     },
     "execution_count": 46,
     "metadata": {},
     "output_type": "execute_result"
    }
   ],
   "source": [
    "np.sort(data['Year-Of-Publication'].unique())"
   ]
  },
  {
   "cell_type": "code",
   "execution_count": 47,
   "id": "c4ae4ea8",
   "metadata": {},
   "outputs": [],
   "source": [
    "# Ensure matplotlib plots \n",
    "%matplotlib inline"
   ]
  },
  {
   "cell_type": "code",
   "execution_count": 48,
   "id": "c2f3ea17",
   "metadata": {},
   "outputs": [
    {
     "data": {
      "image/png": "[encoded data removed]",
      "text/plain": [
       "<Figure size 800x400 with 1 Axes>"
      ]
     },
     "metadata": {},
     "output_type": "display_data"
    }
   ],
   "source": [
    "data[\"Year-Of-Publication\"].hist(figsize=(8,4))\n",
    "plt.tight_layout()\n",
    "plt.show()"
   ]
  },
  {
   "cell_type": "code",
   "execution_count": 49,
   "id": "8e685637",
   "metadata": {},
   "outputs": [
    {
     "name": "stdout",
     "output_type": "stream",
     "text": [
      "Entries below 1900 or above 2024:\n",
      "               ISBN                           Book-Title          Book-Author  \\\n",
      "184      0571197639          Poisonwood Bible Edition Uk   Barbara Kingsolver   \n",
      "289      0590021117          Little House On the Prairie  Laura Ingall Wilder   \n",
      "318      2070362388                               Ravage        Rene Barjavel   \n",
      "319      2266033689                   Le Diable Au Corps     Raymond Radiguet   \n",
      "345      0718144538                         Shattered Uk         Dick Francis   \n",
      "...             ...                                  ...                  ...   \n",
      "1030997  2070382761  Monsieur Vous Oubliez Votre Cadavre         Pascal Laine   \n",
      "1031008  8807840146                                 Next              Baricco   \n",
      "1031036  0670867136               Bruno and the Crumhorn    Ursula Dubosarsky   \n",
      "1031095  3442075750                          Effi Briest              Fontane   \n",
      "1031105  0713715200            American Filmmakers Today           Dian Smith   \n",
      "\n",
      "         Year-Of-Publication                      Publisher  \\\n",
      "184                      0.0                Faber Faber Inc   \n",
      "289                      0.0                 Scholastic Inc   \n",
      "318                      0.0               Gallimard French   \n",
      "319                      0.0          Presses Pocket French   \n",
      "345                      0.0             Michael Joseph Ltd   \n",
      "...                      ...                            ...   \n",
      "1030997                  0.0               Gallimard French   \n",
      "1031008                  0.0                    Feltrinelli   \n",
      "1031036                  0.0        Viking Children's Books   \n",
      "1031095                  0.0   Wilhelm Goldmann Verlag GmbH   \n",
      "1031105                  0.0  Sterling*+ Publishing Company   \n",
      "\n",
      "                                               Image-URL-S  \\\n",
      "184      http://images.amazon.com/images/P/0571197639.0...   \n",
      "289      http://images.amazon.com/images/P/0590021117.0...   \n",
      "318      http://images.amazon.com/images/P/2070362388.0...   \n",
      "319      http://images.amazon.com/images/P/2266033689.0...   \n",
      "345      http://images.amazon.com/images/P/0718144538.0...   \n",
      "...                                                    ...   \n",
      "1030997  http://images.amazon.com/images/P/2070382761.0...   \n",
      "1031008  http://images.amazon.com/images/P/8807840146.0...   \n",
      "1031036  http://images.amazon.com/images/P/0670867136.0...   \n",
      "1031095  http://images.amazon.com/images/P/3442075750.0...   \n",
      "1031105  http://images.amazon.com/images/P/0713715200.0...   \n",
      "\n",
      "                                               Image-URL-M  \\\n",
      "184      http://images.amazon.com/images/P/0571197639.0...   \n",
      "289      http://images.amazon.com/images/P/0590021117.0...   \n",
      "318      http://images.amazon.com/images/P/2070362388.0...   \n",
      "319      http://images.amazon.com/images/P/2266033689.0...   \n",
      "345      http://images.amazon.com/images/P/0718144538.0...   \n",
      "...                                                    ...   \n",
      "1030997  http://images.amazon.com/images/P/2070382761.0...   \n",
      "1031008  http://images.amazon.com/images/P/8807840146.0...   \n",
      "1031036  http://images.amazon.com/images/P/0670867136.0...   \n",
      "1031095  http://images.amazon.com/images/P/3442075750.0...   \n",
      "1031105  http://images.amazon.com/images/P/0713715200.0...   \n",
      "\n",
      "                                               Image-URL-L  User-ID  \\\n",
      "184      http://images.amazon.com/images/P/0571197639.0...    11676   \n",
      "289      http://images.amazon.com/images/P/0590021117.0...    11676   \n",
      "318      http://images.amazon.com/images/P/2070362388.0...    11676   \n",
      "319      http://images.amazon.com/images/P/2266033689.0...    11676   \n",
      "345      http://images.amazon.com/images/P/0718144538.0...    11676   \n",
      "...                                                    ...      ...   \n",
      "1030997  http://images.amazon.com/images/P/2070382761.0...   235278   \n",
      "1031008  http://images.amazon.com/images/P/8807840146.0...   235944   \n",
      "1031036  http://images.amazon.com/images/P/0670867136.0...   238048   \n",
      "1031095  http://images.amazon.com/images/P/3442075750.0...   242741   \n",
      "1031105  http://images.amazon.com/images/P/0713715200.0...   243223   \n",
      "\n",
      "         Book-Rating                        Location   Age  \n",
      "184                6                   n/a, n/a, n/a  32.0  \n",
      "289                8                   n/a, n/a, n/a  32.0  \n",
      "318                7                   n/a, n/a, n/a  32.0  \n",
      "319                0                   n/a, n/a, n/a  32.0  \n",
      "345                6                   n/a, n/a, n/a  32.0  \n",
      "...              ...                             ...   ...  \n",
      "1030997            0    bayonne, pays basque, france  32.0  \n",
      "1031008            8        milano, lombardia, italy  32.0  \n",
      "1031036            0  melbourne, victoria, australia  24.0  \n",
      "1031095            0       augsburg, bayern, germany  32.0  \n",
      "1031105            5          budapest, n/a, hungary  27.0  \n",
      "\n",
      "[14066 rows x 12 columns]\n"
     ]
    }
   ],
   "source": [
    "# Check for entries below 1900 or above 2024\n",
    "outliers = data[(data['Year-Of-Publication'] < 1900) | (data['Year-Of-Publication'] > 2024)]\n",
    "\n",
    "print(\"Entries below 1900 or above 2024:\")\n",
    "print(outliers)"
   ]
  },
  {
   "cell_type": "code",
   "execution_count": 50,
   "id": "2911ef7c",
   "metadata": {},
   "outputs": [
    {
     "data": {
      "text/plain": [
       "array([   0., 2030., 1897., 2038., 2026., 2050., 1806., 1378., 2037.,\n",
       "       1376.])"
      ]
     },
     "execution_count": 50,
     "metadata": {},
     "output_type": "execute_result"
    }
   ],
   "source": [
    "outliers[\"Year-Of-Publication\"].unique()"
   ]
  },
  {
   "cell_type": "markdown",
   "id": "9accbd24",
   "metadata": {},
   "source": []
  },
  {
   "cell_type": "code",
   "execution_count": 51,
   "id": "61380fbd",
   "metadata": {},
   "outputs": [
    {
     "data": {
      "text/plain": [
       "array([   0., 1376., 1378., 1806., 1897., 2026., 2030., 2037., 2038.,\n",
       "       2050.])"
      ]
     },
     "execution_count": 51,
     "metadata": {},
     "output_type": "execute_result"
    }
   ],
   "source": [
    "#getting output in ascending order\n",
    "np.sort(outliers[\"Year-Of-Publication\"].unique())"
   ]
  },
  {
   "cell_type": "code",
   "execution_count": 52,
   "id": "9dc8f0cc",
   "metadata": {},
   "outputs": [
    {
     "data": {
      "text/html": [
       "<div>\n",
       "<style scoped>\n",
       "    .dataframe tbody tr th:only-of-type {\n",
       "        vertical-align: middle;\n",
       "    }\n",
       "\n",
       "    .dataframe tbody tr th {\n",
       "        vertical-align: top;\n",
       "    }\n",
       "\n",
       "    .dataframe thead th {\n",
       "        text-align: right;\n",
       "    }\n",
       "</style>\n",
       "<table border=\"1\" class=\"dataframe\">\n",
       "  <thead>\n",
       "    <tr style=\"text-align: right;\">\n",
       "      <th></th>\n",
       "      <th>ISBN</th>\n",
       "      <th>Book-Title</th>\n",
       "      <th>Book-Author</th>\n",
       "      <th>Year-Of-Publication</th>\n",
       "      <th>Publisher</th>\n",
       "      <th>Image-URL-S</th>\n",
       "      <th>Image-URL-M</th>\n",
       "      <th>Image-URL-L</th>\n",
       "      <th>User-ID</th>\n",
       "      <th>Book-Rating</th>\n",
       "      <th>Location</th>\n",
       "      <th>Age</th>\n",
       "    </tr>\n",
       "  </thead>\n",
       "  <tbody>\n",
       "    <tr>\n",
       "      <th>0</th>\n",
       "      <td>0195153448</td>\n",
       "      <td>Classical Mythology</td>\n",
       "      <td>Mark P. O. Morford</td>\n",
       "      <td>2002.0</td>\n",
       "      <td>Oxford University Press</td>\n",
       "      <td>http://images.amazon.com/images/P/0195153448.0...</td>\n",
       "      <td>http://images.amazon.com/images/P/0195153448.0...</td>\n",
       "      <td>http://images.amazon.com/images/P/0195153448.0...</td>\n",
       "      <td>2</td>\n",
       "      <td>0</td>\n",
       "      <td>stockton, california, usa</td>\n",
       "      <td>18.0</td>\n",
       "    </tr>\n",
       "    <tr>\n",
       "      <th>1</th>\n",
       "      <td>0002005018</td>\n",
       "      <td>Clara Callan</td>\n",
       "      <td>Richard Bruce Wright</td>\n",
       "      <td>2001.0</td>\n",
       "      <td>HarperFlamingo Canada</td>\n",
       "      <td>http://images.amazon.com/images/P/0002005018.0...</td>\n",
       "      <td>http://images.amazon.com/images/P/0002005018.0...</td>\n",
       "      <td>http://images.amazon.com/images/P/0002005018.0...</td>\n",
       "      <td>8</td>\n",
       "      <td>5</td>\n",
       "      <td>timmins, ontario, canada</td>\n",
       "      <td>32.0</td>\n",
       "    </tr>\n",
       "    <tr>\n",
       "      <th>2</th>\n",
       "      <td>0060973129</td>\n",
       "      <td>Decision in Normandy</td>\n",
       "      <td>Carlo D'Este</td>\n",
       "      <td>1991.0</td>\n",
       "      <td>HarperPerennial</td>\n",
       "      <td>http://images.amazon.com/images/P/0060973129.0...</td>\n",
       "      <td>http://images.amazon.com/images/P/0060973129.0...</td>\n",
       "      <td>http://images.amazon.com/images/P/0060973129.0...</td>\n",
       "      <td>8</td>\n",
       "      <td>0</td>\n",
       "      <td>timmins, ontario, canada</td>\n",
       "      <td>32.0</td>\n",
       "    </tr>\n",
       "    <tr>\n",
       "      <th>3</th>\n",
       "      <td>0374157065</td>\n",
       "      <td>Flu: The Story of the Great Influenza Pandemic...</td>\n",
       "      <td>Gina Bari Kolata</td>\n",
       "      <td>1999.0</td>\n",
       "      <td>Farrar Straus Giroux</td>\n",
       "      <td>http://images.amazon.com/images/P/0374157065.0...</td>\n",
       "      <td>http://images.amazon.com/images/P/0374157065.0...</td>\n",
       "      <td>http://images.amazon.com/images/P/0374157065.0...</td>\n",
       "      <td>8</td>\n",
       "      <td>0</td>\n",
       "      <td>timmins, ontario, canada</td>\n",
       "      <td>32.0</td>\n",
       "    </tr>\n",
       "    <tr>\n",
       "      <th>4</th>\n",
       "      <td>0393045218</td>\n",
       "      <td>The Mummies of Urumchi</td>\n",
       "      <td>E. J. W. Barber</td>\n",
       "      <td>1999.0</td>\n",
       "      <td>W. W. Norton &amp;amp; Company</td>\n",
       "      <td>http://images.amazon.com/images/P/0393045218.0...</td>\n",
       "      <td>http://images.amazon.com/images/P/0393045218.0...</td>\n",
       "      <td>http://images.amazon.com/images/P/0393045218.0...</td>\n",
       "      <td>8</td>\n",
       "      <td>0</td>\n",
       "      <td>timmins, ontario, canada</td>\n",
       "      <td>32.0</td>\n",
       "    </tr>\n",
       "    <tr>\n",
       "      <th>...</th>\n",
       "      <td>...</td>\n",
       "      <td>...</td>\n",
       "      <td>...</td>\n",
       "      <td>...</td>\n",
       "      <td>...</td>\n",
       "      <td>...</td>\n",
       "      <td>...</td>\n",
       "      <td>...</td>\n",
       "      <td>...</td>\n",
       "      <td>...</td>\n",
       "      <td>...</td>\n",
       "      <td>...</td>\n",
       "    </tr>\n",
       "    <tr>\n",
       "      <th>1031131</th>\n",
       "      <td>087004124X</td>\n",
       "      <td>Anthem</td>\n",
       "      <td>Ayn Rand</td>\n",
       "      <td>1966.0</td>\n",
       "      <td>Caxton Press</td>\n",
       "      <td>http://images.amazon.com/images/P/087004124X.0...</td>\n",
       "      <td>http://images.amazon.com/images/P/087004124X.0...</td>\n",
       "      <td>http://images.amazon.com/images/P/087004124X.0...</td>\n",
       "      <td>259589</td>\n",
       "      <td>8</td>\n",
       "      <td>venice, florida, usa</td>\n",
       "      <td>19.0</td>\n",
       "    </tr>\n",
       "    <tr>\n",
       "      <th>1031132</th>\n",
       "      <td>158243123X</td>\n",
       "      <td>A Student of Weather</td>\n",
       "      <td>Elizabeth Hay</td>\n",
       "      <td>2001.0</td>\n",
       "      <td>Counterpoint Press</td>\n",
       "      <td>http://images.amazon.com/images/P/158243123X.0...</td>\n",
       "      <td>http://images.amazon.com/images/P/158243123X.0...</td>\n",
       "      <td>http://images.amazon.com/images/P/158243123X.0...</td>\n",
       "      <td>259591</td>\n",
       "      <td>8</td>\n",
       "      <td>tioga, pennsylvania, usa</td>\n",
       "      <td>39.0</td>\n",
       "    </tr>\n",
       "    <tr>\n",
       "      <th>1031133</th>\n",
       "      <td>8485900057</td>\n",
       "      <td>Rimas y leyendas (Clásicos Fraile ; 3)</td>\n",
       "      <td>Gustavo Adolfo Bécquer</td>\n",
       "      <td>1981.0</td>\n",
       "      <td>Ediciones Fraile</td>\n",
       "      <td>http://images.amazon.com/images/P/8485900057.0...</td>\n",
       "      <td>http://images.amazon.com/images/P/8485900057.0...</td>\n",
       "      <td>http://images.amazon.com/images/P/8485900057.0...</td>\n",
       "      <td>259614</td>\n",
       "      <td>10</td>\n",
       "      <td>madrid, madrid, spain</td>\n",
       "      <td>22.0</td>\n",
       "    </tr>\n",
       "    <tr>\n",
       "      <th>1031134</th>\n",
       "      <td>0838934854</td>\n",
       "      <td>Anglo-American Cataloguing Rules</td>\n",
       "      <td>Michael Gorman</td>\n",
       "      <td>1998.0</td>\n",
       "      <td>American Library Association</td>\n",
       "      <td>http://images.amazon.com/images/P/0838934854.0...</td>\n",
       "      <td>http://images.amazon.com/images/P/0838934854.0...</td>\n",
       "      <td>http://images.amazon.com/images/P/0838934854.0...</td>\n",
       "      <td>259679</td>\n",
       "      <td>6</td>\n",
       "      <td>grand prairie, texas, usa</td>\n",
       "      <td>27.0</td>\n",
       "    </tr>\n",
       "    <tr>\n",
       "      <th>1031135</th>\n",
       "      <td>3423300965</td>\n",
       "      <td>Texte zur Ethik.</td>\n",
       "      <td>Dieter Birnbacher</td>\n",
       "      <td>2003.0</td>\n",
       "      <td>Dtv</td>\n",
       "      <td>http://images.amazon.com/images/P/3423300965.0...</td>\n",
       "      <td>http://images.amazon.com/images/P/3423300965.0...</td>\n",
       "      <td>http://images.amazon.com/images/P/3423300965.0...</td>\n",
       "      <td>259920</td>\n",
       "      <td>0</td>\n",
       "      <td>bielefeld, nordrhein-westfalen, germany</td>\n",
       "      <td>32.0</td>\n",
       "    </tr>\n",
       "  </tbody>\n",
       "</table>\n",
       "<p>1017066 rows × 12 columns</p>\n",
       "</div>"
      ],
      "text/plain": [
       "               ISBN                                         Book-Title  \\\n",
       "0        0195153448                                Classical Mythology   \n",
       "1        0002005018                                       Clara Callan   \n",
       "2        0060973129                               Decision in Normandy   \n",
       "3        0374157065  Flu: The Story of the Great Influenza Pandemic...   \n",
       "4        0393045218                             The Mummies of Urumchi   \n",
       "...             ...                                                ...   \n",
       "1031131  087004124X                                             Anthem   \n",
       "1031132  158243123X                               A Student of Weather   \n",
       "1031133  8485900057             Rimas y leyendas (Clásicos Fraile ; 3)   \n",
       "1031134  0838934854                   Anglo-American Cataloguing Rules   \n",
       "1031135  3423300965                                   Texte zur Ethik.   \n",
       "\n",
       "                    Book-Author  Year-Of-Publication  \\\n",
       "0            Mark P. O. Morford               2002.0   \n",
       "1          Richard Bruce Wright               2001.0   \n",
       "2                  Carlo D'Este               1991.0   \n",
       "3              Gina Bari Kolata               1999.0   \n",
       "4               E. J. W. Barber               1999.0   \n",
       "...                         ...                  ...   \n",
       "1031131                Ayn Rand               1966.0   \n",
       "1031132           Elizabeth Hay               2001.0   \n",
       "1031133  Gustavo Adolfo Bécquer               1981.0   \n",
       "1031134          Michael Gorman               1998.0   \n",
       "1031135       Dieter Birnbacher               2003.0   \n",
       "\n",
       "                            Publisher  \\\n",
       "0             Oxford University Press   \n",
       "1               HarperFlamingo Canada   \n",
       "2                     HarperPerennial   \n",
       "3                Farrar Straus Giroux   \n",
       "4          W. W. Norton &amp; Company   \n",
       "...                               ...   \n",
       "1031131                  Caxton Press   \n",
       "1031132            Counterpoint Press   \n",
       "1031133              Ediciones Fraile   \n",
       "1031134  American Library Association   \n",
       "1031135                           Dtv   \n",
       "\n",
       "                                               Image-URL-S  \\\n",
       "0        http://images.amazon.com/images/P/0195153448.0...   \n",
       "1        http://images.amazon.com/images/P/0002005018.0...   \n",
       "2        http://images.amazon.com/images/P/0060973129.0...   \n",
       "3        http://images.amazon.com/images/P/0374157065.0...   \n",
       "4        http://images.amazon.com/images/P/0393045218.0...   \n",
       "...                                                    ...   \n",
       "1031131  http://images.amazon.com/images/P/087004124X.0...   \n",
       "1031132  http://images.amazon.com/images/P/158243123X.0...   \n",
       "1031133  http://images.amazon.com/images/P/8485900057.0...   \n",
       "1031134  http://images.amazon.com/images/P/0838934854.0...   \n",
       "1031135  http://images.amazon.com/images/P/3423300965.0...   \n",
       "\n",
       "                                               Image-URL-M  \\\n",
       "0        http://images.amazon.com/images/P/0195153448.0...   \n",
       "1        http://images.amazon.com/images/P/0002005018.0...   \n",
       "2        http://images.amazon.com/images/P/0060973129.0...   \n",
       "3        http://images.amazon.com/images/P/0374157065.0...   \n",
       "4        http://images.amazon.com/images/P/0393045218.0...   \n",
       "...                                                    ...   \n",
       "1031131  http://images.amazon.com/images/P/087004124X.0...   \n",
       "1031132  http://images.amazon.com/images/P/158243123X.0...   \n",
       "1031133  http://images.amazon.com/images/P/8485900057.0...   \n",
       "1031134  http://images.amazon.com/images/P/0838934854.0...   \n",
       "1031135  http://images.amazon.com/images/P/3423300965.0...   \n",
       "\n",
       "                                               Image-URL-L  User-ID  \\\n",
       "0        http://images.amazon.com/images/P/0195153448.0...        2   \n",
       "1        http://images.amazon.com/images/P/0002005018.0...        8   \n",
       "2        http://images.amazon.com/images/P/0060973129.0...        8   \n",
       "3        http://images.amazon.com/images/P/0374157065.0...        8   \n",
       "4        http://images.amazon.com/images/P/0393045218.0...        8   \n",
       "...                                                    ...      ...   \n",
       "1031131  http://images.amazon.com/images/P/087004124X.0...   259589   \n",
       "1031132  http://images.amazon.com/images/P/158243123X.0...   259591   \n",
       "1031133  http://images.amazon.com/images/P/8485900057.0...   259614   \n",
       "1031134  http://images.amazon.com/images/P/0838934854.0...   259679   \n",
       "1031135  http://images.amazon.com/images/P/3423300965.0...   259920   \n",
       "\n",
       "         Book-Rating                                 Location   Age  \n",
       "0                  0                stockton, california, usa  18.0  \n",
       "1                  5                 timmins, ontario, canada  32.0  \n",
       "2                  0                 timmins, ontario, canada  32.0  \n",
       "3                  0                 timmins, ontario, canada  32.0  \n",
       "4                  0                 timmins, ontario, canada  32.0  \n",
       "...              ...                                      ...   ...  \n",
       "1031131            8                     venice, florida, usa  19.0  \n",
       "1031132            8                 tioga, pennsylvania, usa  39.0  \n",
       "1031133           10                    madrid, madrid, spain  22.0  \n",
       "1031134            6                grand prairie, texas, usa  27.0  \n",
       "1031135            0  bielefeld, nordrhein-westfalen, germany  32.0  \n",
       "\n",
       "[1017066 rows x 12 columns]"
      ]
     },
     "execution_count": 52,
     "metadata": {},
     "output_type": "execute_result"
    }
   ],
   "source": [
    "#Now removing outliers & then need to plot histogram for Year of publication > 1900 & < 2024\n",
    "df_filtered_year = data[(data[\"Year-Of-Publication\"] >= 1900 ) & (data[\"Year-Of-Publication\"]<=2024)]\n",
    "df_filtered_year"
   ]
  },
  {
   "cell_type": "code",
   "execution_count": 53,
   "id": "1a7a4e26",
   "metadata": {},
   "outputs": [],
   "source": [
    "## Select only the 'Year-Of-Publication' column\n",
    "year_of_publication = df_filtered_year[\"Year-Of-Publication\"]"
   ]
  },
  {
   "cell_type": "code",
   "execution_count": 54,
   "id": "3af124a2",
   "metadata": {},
   "outputs": [
    {
     "data": {
      "text/plain": [
       "0          2002.0\n",
       "1          2001.0\n",
       "2          1991.0\n",
       "3          1999.0\n",
       "4          1999.0\n",
       "            ...  \n",
       "1031131    1966.0\n",
       "1031132    2001.0\n",
       "1031133    1981.0\n",
       "1031134    1998.0\n",
       "1031135    2003.0\n",
       "Name: Year-Of-Publication, Length: 1017066, dtype: float64"
      ]
     },
     "execution_count": 54,
     "metadata": {},
     "output_type": "execute_result"
    }
   ],
   "source": [
    "year_of_publication"
   ]
  },
  {
   "cell_type": "code",
   "execution_count": 55,
   "id": "f1b0adf2",
   "metadata": {},
   "outputs": [
    {
     "data": {
      "text/plain": [
       "count    1.017066e+06\n",
       "mean     1.995303e+03\n",
       "std      7.304355e+00\n",
       "min      1.900000e+03\n",
       "25%      1.992000e+03\n",
       "50%      1.997000e+03\n",
       "75%      2.001000e+03\n",
       "max      2.024000e+03\n",
       "Name: Year-Of-Publication, dtype: float64"
      ]
     },
     "execution_count": 55,
     "metadata": {},
     "output_type": "execute_result"
    }
   ],
   "source": [
    "year_of_publication.describe()"
   ]
  },
  {
   "cell_type": "code",
   "execution_count": 56,
   "id": "310e5cb7",
   "metadata": {},
   "outputs": [
    {
     "data": {
      "text/plain": [
       "(1017066,)"
      ]
     },
     "execution_count": 56,
     "metadata": {},
     "output_type": "execute_result"
    }
   ],
   "source": [
    "year_of_publication.shape"
   ]
  },
  {
   "cell_type": "code",
   "execution_count": 57,
   "id": "6cad31e1",
   "metadata": {},
   "outputs": [
    {
     "data": {
      "image/png": "[encoded data removed]",
      "text/plain": [
       "<Figure size 1000x600 with 1 Axes>"
      ]
     },
     "metadata": {},
     "output_type": "display_data"
    }
   ],
   "source": [
    "# Plot histogram for the filtered years\n",
    "plt.figure(figsize=(10, 6))\n",
    "plt.hist(df_filtered_year[\"Year-Of-Publication\"], bins=range(1900, 2050, 10), edgecolor='black', alpha=0.7)\n",
    "plt.xlabel('yop')\n",
    "plt.ylabel('Frequency')\n",
    "plt.title('Histogram of yop >= 1900 and <= 2024')\n",
    "plt.xticks(range(1900, 2050, 10))\n",
    "plt.grid(False)\n",
    "plt.show()"
   ]
  },
  {
   "cell_type": "code",
   "execution_count": 58,
   "id": "8e5f37e0",
   "metadata": {},
   "outputs": [],
   "source": [
    "unique_yop = df_filtered_year[\"Year-Of-Publication\"].unique()"
   ]
  },
  {
   "cell_type": "code",
   "execution_count": 59,
   "id": "70505c4c",
   "metadata": {},
   "outputs": [
    {
     "name": "stdout",
     "output_type": "stream",
     "text": [
      "Unique yop between 1900 and 2024:\n",
      "[2002. 2001. 1991. 1999. 2000. 1993. 1996. 1988. 2004. 1998. 1994. 2003.\n",
      " 1992. 1989. 1976. 1985. 1980. 1995. 1997. 1983. 1987. 1990. 1982. 1965.\n",
      " 1986. 1960. 1974. 1978. 1984. 1973. 1959. 1942. 1979. 1972. 1981. 1957.\n",
      " 1971. 1963. 1958. 1966. 1930. 1969. 1953. 1970. 1947. 1977. 1954. 1920.\n",
      " 1955. 1975. 1964. 1967. 2005. 1951. 1927. 1961. 1968. 1962. 1948. 1925.\n",
      " 1923. 1938. 1956. 1901. 1926. 1940. 1941. 1922. 1949. 1939. 1952. 1933.\n",
      " 1944. 2011. 1937. 1902. 1950. 1911. 1943. 1945. 1946. 1932. 1924. 1921.\n",
      " 1936. 2021. 1900. 1929. 2020. 2006. 1909. 2010. 1931. 1906. 1935. 1928.\n",
      " 1934. 1910. 2012. 2008. 1917. 1914. 1904. 2024. 1908. 1919.]\n"
     ]
    }
   ],
   "source": [
    "# Display the unique values\n",
    "print(\"Unique yop between 1900 and 2024:\")\n",
    "print(unique_yop)"
   ]
  },
  {
   "cell_type": "code",
   "execution_count": 60,
   "id": "67c5264d",
   "metadata": {},
   "outputs": [
    {
     "data": {
      "text/plain": [
       "array([1900., 1901., 1902., 1904., 1906., 1908., 1909., 1910., 1911.,\n",
       "       1914., 1917., 1919., 1920., 1921., 1922., 1923., 1924., 1925.,\n",
       "       1926., 1927., 1928., 1929., 1930., 1931., 1932., 1933., 1934.,\n",
       "       1935., 1936., 1937., 1938., 1939., 1940., 1941., 1942., 1943.,\n",
       "       1944., 1945., 1946., 1947., 1948., 1949., 1950., 1951., 1952.,\n",
       "       1953., 1954., 1955., 1956., 1957., 1958., 1959., 1960., 1961.,\n",
       "       1962., 1963., 1964., 1965., 1966., 1967., 1968., 1969., 1970.,\n",
       "       1971., 1972., 1973., 1974., 1975., 1976., 1977., 1978., 1979.,\n",
       "       1980., 1981., 1982., 1983., 1984., 1985., 1986., 1987., 1988.,\n",
       "       1989., 1990., 1991., 1992., 1993., 1994., 1995., 1996., 1997.,\n",
       "       1998., 1999., 2000., 2001., 2002., 2003., 2004., 2005., 2006.,\n",
       "       2008., 2010., 2011., 2012., 2020., 2021., 2024.])"
      ]
     },
     "execution_count": 60,
     "metadata": {},
     "output_type": "execute_result"
    }
   ],
   "source": [
    "#sorting in ascending order for checking\n",
    "np.sort(unique_yop)"
   ]
  },
  {
   "cell_type": "markdown",
   "id": "3fe290cf",
   "metadata": {},
   "source": [
    "# Age"
   ]
  },
  {
   "cell_type": "code",
   "execution_count": 61,
   "id": "83f529c0",
   "metadata": {},
   "outputs": [
    {
     "name": "stdout",
     "output_type": "stream",
     "text": [
      "0          18.0\n",
      "1          32.0\n",
      "2          32.0\n",
      "3          32.0\n",
      "4          32.0\n",
      "           ... \n",
      "1031131    19.0\n",
      "1031132    39.0\n",
      "1031133    22.0\n",
      "1031134    27.0\n",
      "1031135    32.0\n",
      "Name: Age, Length: 1031136, dtype: float64\n"
     ]
    }
   ],
   "source": [
    "print(data[\"Age\"])"
   ]
  },
  {
   "cell_type": "code",
   "execution_count": 62,
   "id": "5df06e91",
   "metadata": {},
   "outputs": [
    {
     "data": {
      "image/png": "[encoded data removed]",
      "text/plain": [
       "<Figure size 640x480 with 1 Axes>"
      ]
     },
     "metadata": {},
     "output_type": "display_data"
    }
   ],
   "source": [
    "plt.boxplot(data['Age'],vert =True)\n",
    "plt.ylabel(\"Age\")\n",
    "plt.xlabel(\"Boxplot\")\n",
    "plt.title(\"Boxplot\")\n",
    "plt.tight_layout();"
   ]
  },
  {
   "cell_type": "code",
   "execution_count": 63,
   "id": "88d39adc",
   "metadata": {},
   "outputs": [
    {
     "name": "stdout",
     "output_type": "stream",
     "text": [
      "Entries below Age 5 or above 100:\n",
      "               ISBN                                         Book-Title  \\\n",
      "118537   0440234743                                      The Testament   \n",
      "118538   0971880107                                        Wild Animus   \n",
      "118539   042511774X                                  Breathing Lessons   \n",
      "118540   0316769487                             The Catcher in the Rye   \n",
      "118541   0786868716                 The Five People You Meet in Heaven   \n",
      "...             ...                                                ...   \n",
      "1030184  3857913347                        Londons letzter Gast: Roman   \n",
      "1030210  3446199799                               Ein Haus in Istrien.   \n",
      "1030252  1885331096  The Confidence Factor: Cosmic Gooses Lay Golde...   \n",
      "1030531  8440639228                          El Principe de Las Mareas   \n",
      "1030648  3423124504                                 Der Engel schwieg.   \n",
      "\n",
      "            Book-Author  Year-Of-Publication                 Publisher  \\\n",
      "118537     John Grisham               1999.0                      Dell   \n",
      "118538     Rich Shapero               2004.0                   Too Far   \n",
      "118539       Anne Tyler               1994.0  Berkley Publishing Group   \n",
      "118540    J.D. Salinger               1991.0             Little, Brown   \n",
      "118541      Mitch Albom               2003.0                  Hyperion   \n",
      "...                 ...                  ...                       ...   \n",
      "1030184      Emil Zopfi               1999.0                    Limmat   \n",
      "1030210  Richard Swartz               2001.0               Carl Hanser   \n",
      "1030252   Judith Briles               2003.0           Mile High Press   \n",
      "1030531      Pat Conroy               1993.0               Ediciones B   \n",
      "1030648  Heinrich Bÿ¶ll               1997.0                       Dtv   \n",
      "\n",
      "                                               Image-URL-S  \\\n",
      "118537   http://images.amazon.com/images/P/0440234743.0...   \n",
      "118538   http://images.amazon.com/images/P/0971880107.0...   \n",
      "118539   http://images.amazon.com/images/P/042511774X.0...   \n",
      "118540   http://images.amazon.com/images/P/0316769487.0...   \n",
      "118541   http://images.amazon.com/images/P/0786868716.0...   \n",
      "...                                                    ...   \n",
      "1030184  http://images.amazon.com/images/P/3857913347.0...   \n",
      "1030210  http://images.amazon.com/images/P/3446199799.0...   \n",
      "1030252  http://images.amazon.com/images/P/1885331096.0...   \n",
      "1030531  http://images.amazon.com/images/P/8440639228.0...   \n",
      "1030648  http://images.amazon.com/images/P/3423124504.0...   \n",
      "\n",
      "                                               Image-URL-M  \\\n",
      "118537   http://images.amazon.com/images/P/0440234743.0...   \n",
      "118538   http://images.amazon.com/images/P/0971880107.0...   \n",
      "118539   http://images.amazon.com/images/P/042511774X.0...   \n",
      "118540   http://images.amazon.com/images/P/0316769487.0...   \n",
      "118541   http://images.amazon.com/images/P/0786868716.0...   \n",
      "...                                                    ...   \n",
      "1030184  http://images.amazon.com/images/P/3857913347.0...   \n",
      "1030210  http://images.amazon.com/images/P/3446199799.0...   \n",
      "1030252  http://images.amazon.com/images/P/1885331096.0...   \n",
      "1030531  http://images.amazon.com/images/P/8440639228.0...   \n",
      "1030648  http://images.amazon.com/images/P/3423124504.0...   \n",
      "\n",
      "                                               Image-URL-L  User-ID  \\\n",
      "118537   http://images.amazon.com/images/P/0440234743.0...   224764   \n",
      "118538   http://images.amazon.com/images/P/0971880107.0...   224764   \n",
      "118539   http://images.amazon.com/images/P/042511774X.0...   224764   \n",
      "118540   http://images.amazon.com/images/P/0316769487.0...   224764   \n",
      "118541   http://images.amazon.com/images/P/0786868716.0...   224764   \n",
      "...                                                    ...      ...   \n",
      "1030184  http://images.amazon.com/images/P/3857913347.0...   224652   \n",
      "1030210  http://images.amazon.com/images/P/3446199799.0...   224876   \n",
      "1030252  http://images.amazon.com/images/P/1885331096.0...   121875   \n",
      "1030531  http://images.amazon.com/images/P/8440639228.0...   166487   \n",
      "1030648  http://images.amazon.com/images/P/3423124504.0...   173195   \n",
      "\n",
      "         Book-Rating                              Location    Age  \n",
      "118537             0             rockaway, new jersey, usa  116.0  \n",
      "118538             0             rockaway, new jersey, usa  116.0  \n",
      "118539             0             rockaway, new jersey, usa  116.0  \n",
      "118540             0             rockaway, new jersey, usa  116.0  \n",
      "118541             0             rockaway, new jersey, usa  116.0  \n",
      "...              ...                                   ...    ...  \n",
      "1030184            5       basel, basel-stadt, switzerland    1.0  \n",
      "1030210            8    hildesheim, niedersachsen, germany  104.0  \n",
      "1030252           10                 aurora, colorado, usa    0.0  \n",
      "1030531            7                 santander, n/a, spain  103.0  \n",
      "1030648            6  braunschweig, niedersachsen, germany  104.0  \n",
      "\n",
      "[4634 rows x 12 columns]\n"
     ]
    }
   ],
   "source": [
    "# Check for entries below Age 5 or above 100\n",
    "outliers = data[(data['Age'] < 5) | (data['Age'] > 100)]\n",
    "\n",
    "print(\"Entries below Age 5 or above 100:\")\n",
    "print(outliers)"
   ]
  },
  {
   "cell_type": "code",
   "execution_count": 64,
   "id": "0d548851",
   "metadata": {},
   "outputs": [
    {
     "data": {
      "text/plain": [
       "array([116., 128., 104.,   0., 239., 103., 201., 204.,   2.,   3.,   1.,\n",
       "         4., 151., 148., 209., 147., 101., 168., 152., 133., 136., 228.,\n",
       "       141., 237., 108., 146., 140., 223., 219., 124., 200., 220., 244.,\n",
       "       212., 157., 229., 105., 199., 226., 123., 118., 127., 114., 156.,\n",
       "       138., 109., 132., 107.])"
      ]
     },
     "execution_count": 64,
     "metadata": {},
     "output_type": "execute_result"
    }
   ],
   "source": [
    "outliers[\"Age\"].unique()"
   ]
  },
  {
   "cell_type": "code",
   "execution_count": 65,
   "id": "7326ec1e",
   "metadata": {},
   "outputs": [
    {
     "data": {
      "text/plain": [
       "array([  0.,   1.,   2.,   3.,   4., 101., 103., 104., 105., 107., 108.,\n",
       "       109., 114., 116., 118., 123., 124., 127., 128., 132., 133., 136.,\n",
       "       138., 140., 141., 146., 147., 148., 151., 152., 156., 157., 168.,\n",
       "       199., 200., 201., 204., 209., 212., 219., 220., 223., 226., 228.,\n",
       "       229., 237., 239., 244.])"
      ]
     },
     "execution_count": 65,
     "metadata": {},
     "output_type": "execute_result"
    }
   ],
   "source": [
    "#getting output in ascending order\n",
    "np.sort(outliers[\"Age\"].unique())"
   ]
  },
  {
   "cell_type": "code",
   "execution_count": 66,
   "id": "470e0184",
   "metadata": {},
   "outputs": [
    {
     "data": {
      "text/html": [
       "<div>\n",
       "<style scoped>\n",
       "    .dataframe tbody tr th:only-of-type {\n",
       "        vertical-align: middle;\n",
       "    }\n",
       "\n",
       "    .dataframe tbody tr th {\n",
       "        vertical-align: top;\n",
       "    }\n",
       "\n",
       "    .dataframe thead th {\n",
       "        text-align: right;\n",
       "    }\n",
       "</style>\n",
       "<table border=\"1\" class=\"dataframe\">\n",
       "  <thead>\n",
       "    <tr style=\"text-align: right;\">\n",
       "      <th></th>\n",
       "      <th>ISBN</th>\n",
       "      <th>Book-Title</th>\n",
       "      <th>Book-Author</th>\n",
       "      <th>Year-Of-Publication</th>\n",
       "      <th>Publisher</th>\n",
       "      <th>Image-URL-S</th>\n",
       "      <th>Image-URL-M</th>\n",
       "      <th>Image-URL-L</th>\n",
       "      <th>User-ID</th>\n",
       "      <th>Book-Rating</th>\n",
       "      <th>Location</th>\n",
       "      <th>Age</th>\n",
       "    </tr>\n",
       "  </thead>\n",
       "  <tbody>\n",
       "    <tr>\n",
       "      <th>0</th>\n",
       "      <td>0195153448</td>\n",
       "      <td>Classical Mythology</td>\n",
       "      <td>Mark P. O. Morford</td>\n",
       "      <td>2002.0</td>\n",
       "      <td>Oxford University Press</td>\n",
       "      <td>http://images.amazon.com/images/P/0195153448.0...</td>\n",
       "      <td>http://images.amazon.com/images/P/0195153448.0...</td>\n",
       "      <td>http://images.amazon.com/images/P/0195153448.0...</td>\n",
       "      <td>2</td>\n",
       "      <td>0</td>\n",
       "      <td>stockton, california, usa</td>\n",
       "      <td>18.0</td>\n",
       "    </tr>\n",
       "    <tr>\n",
       "      <th>1</th>\n",
       "      <td>0002005018</td>\n",
       "      <td>Clara Callan</td>\n",
       "      <td>Richard Bruce Wright</td>\n",
       "      <td>2001.0</td>\n",
       "      <td>HarperFlamingo Canada</td>\n",
       "      <td>http://images.amazon.com/images/P/0002005018.0...</td>\n",
       "      <td>http://images.amazon.com/images/P/0002005018.0...</td>\n",
       "      <td>http://images.amazon.com/images/P/0002005018.0...</td>\n",
       "      <td>8</td>\n",
       "      <td>5</td>\n",
       "      <td>timmins, ontario, canada</td>\n",
       "      <td>32.0</td>\n",
       "    </tr>\n",
       "    <tr>\n",
       "      <th>2</th>\n",
       "      <td>0060973129</td>\n",
       "      <td>Decision in Normandy</td>\n",
       "      <td>Carlo D'Este</td>\n",
       "      <td>1991.0</td>\n",
       "      <td>HarperPerennial</td>\n",
       "      <td>http://images.amazon.com/images/P/0060973129.0...</td>\n",
       "      <td>http://images.amazon.com/images/P/0060973129.0...</td>\n",
       "      <td>http://images.amazon.com/images/P/0060973129.0...</td>\n",
       "      <td>8</td>\n",
       "      <td>0</td>\n",
       "      <td>timmins, ontario, canada</td>\n",
       "      <td>32.0</td>\n",
       "    </tr>\n",
       "    <tr>\n",
       "      <th>3</th>\n",
       "      <td>0374157065</td>\n",
       "      <td>Flu: The Story of the Great Influenza Pandemic...</td>\n",
       "      <td>Gina Bari Kolata</td>\n",
       "      <td>1999.0</td>\n",
       "      <td>Farrar Straus Giroux</td>\n",
       "      <td>http://images.amazon.com/images/P/0374157065.0...</td>\n",
       "      <td>http://images.amazon.com/images/P/0374157065.0...</td>\n",
       "      <td>http://images.amazon.com/images/P/0374157065.0...</td>\n",
       "      <td>8</td>\n",
       "      <td>0</td>\n",
       "      <td>timmins, ontario, canada</td>\n",
       "      <td>32.0</td>\n",
       "    </tr>\n",
       "    <tr>\n",
       "      <th>4</th>\n",
       "      <td>0393045218</td>\n",
       "      <td>The Mummies of Urumchi</td>\n",
       "      <td>E. J. W. Barber</td>\n",
       "      <td>1999.0</td>\n",
       "      <td>W. W. Norton &amp;amp; Company</td>\n",
       "      <td>http://images.amazon.com/images/P/0393045218.0...</td>\n",
       "      <td>http://images.amazon.com/images/P/0393045218.0...</td>\n",
       "      <td>http://images.amazon.com/images/P/0393045218.0...</td>\n",
       "      <td>8</td>\n",
       "      <td>0</td>\n",
       "      <td>timmins, ontario, canada</td>\n",
       "      <td>32.0</td>\n",
       "    </tr>\n",
       "    <tr>\n",
       "      <th>...</th>\n",
       "      <td>...</td>\n",
       "      <td>...</td>\n",
       "      <td>...</td>\n",
       "      <td>...</td>\n",
       "      <td>...</td>\n",
       "      <td>...</td>\n",
       "      <td>...</td>\n",
       "      <td>...</td>\n",
       "      <td>...</td>\n",
       "      <td>...</td>\n",
       "      <td>...</td>\n",
       "      <td>...</td>\n",
       "    </tr>\n",
       "    <tr>\n",
       "      <th>1031131</th>\n",
       "      <td>087004124X</td>\n",
       "      <td>Anthem</td>\n",
       "      <td>Ayn Rand</td>\n",
       "      <td>1966.0</td>\n",
       "      <td>Caxton Press</td>\n",
       "      <td>http://images.amazon.com/images/P/087004124X.0...</td>\n",
       "      <td>http://images.amazon.com/images/P/087004124X.0...</td>\n",
       "      <td>http://images.amazon.com/images/P/087004124X.0...</td>\n",
       "      <td>259589</td>\n",
       "      <td>8</td>\n",
       "      <td>venice, florida, usa</td>\n",
       "      <td>19.0</td>\n",
       "    </tr>\n",
       "    <tr>\n",
       "      <th>1031132</th>\n",
       "      <td>158243123X</td>\n",
       "      <td>A Student of Weather</td>\n",
       "      <td>Elizabeth Hay</td>\n",
       "      <td>2001.0</td>\n",
       "      <td>Counterpoint Press</td>\n",
       "      <td>http://images.amazon.com/images/P/158243123X.0...</td>\n",
       "      <td>http://images.amazon.com/images/P/158243123X.0...</td>\n",
       "      <td>http://images.amazon.com/images/P/158243123X.0...</td>\n",
       "      <td>259591</td>\n",
       "      <td>8</td>\n",
       "      <td>tioga, pennsylvania, usa</td>\n",
       "      <td>39.0</td>\n",
       "    </tr>\n",
       "    <tr>\n",
       "      <th>1031133</th>\n",
       "      <td>8485900057</td>\n",
       "      <td>Rimas y leyendas (Clásicos Fraile ; 3)</td>\n",
       "      <td>Gustavo Adolfo Bécquer</td>\n",
       "      <td>1981.0</td>\n",
       "      <td>Ediciones Fraile</td>\n",
       "      <td>http://images.amazon.com/images/P/8485900057.0...</td>\n",
       "      <td>http://images.amazon.com/images/P/8485900057.0...</td>\n",
       "      <td>http://images.amazon.com/images/P/8485900057.0...</td>\n",
       "      <td>259614</td>\n",
       "      <td>10</td>\n",
       "      <td>madrid, madrid, spain</td>\n",
       "      <td>22.0</td>\n",
       "    </tr>\n",
       "    <tr>\n",
       "      <th>1031134</th>\n",
       "      <td>0838934854</td>\n",
       "      <td>Anglo-American Cataloguing Rules</td>\n",
       "      <td>Michael Gorman</td>\n",
       "      <td>1998.0</td>\n",
       "      <td>American Library Association</td>\n",
       "      <td>http://images.amazon.com/images/P/0838934854.0...</td>\n",
       "      <td>http://images.amazon.com/images/P/0838934854.0...</td>\n",
       "      <td>http://images.amazon.com/images/P/0838934854.0...</td>\n",
       "      <td>259679</td>\n",
       "      <td>6</td>\n",
       "      <td>grand prairie, texas, usa</td>\n",
       "      <td>27.0</td>\n",
       "    </tr>\n",
       "    <tr>\n",
       "      <th>1031135</th>\n",
       "      <td>3423300965</td>\n",
       "      <td>Texte zur Ethik.</td>\n",
       "      <td>Dieter Birnbacher</td>\n",
       "      <td>2003.0</td>\n",
       "      <td>Dtv</td>\n",
       "      <td>http://images.amazon.com/images/P/3423300965.0...</td>\n",
       "      <td>http://images.amazon.com/images/P/3423300965.0...</td>\n",
       "      <td>http://images.amazon.com/images/P/3423300965.0...</td>\n",
       "      <td>259920</td>\n",
       "      <td>0</td>\n",
       "      <td>bielefeld, nordrhein-westfalen, germany</td>\n",
       "      <td>32.0</td>\n",
       "    </tr>\n",
       "  </tbody>\n",
       "</table>\n",
       "<p>1026502 rows × 12 columns</p>\n",
       "</div>"
      ],
      "text/plain": [
       "               ISBN                                         Book-Title  \\\n",
       "0        0195153448                                Classical Mythology   \n",
       "1        0002005018                                       Clara Callan   \n",
       "2        0060973129                               Decision in Normandy   \n",
       "3        0374157065  Flu: The Story of the Great Influenza Pandemic...   \n",
       "4        0393045218                             The Mummies of Urumchi   \n",
       "...             ...                                                ...   \n",
       "1031131  087004124X                                             Anthem   \n",
       "1031132  158243123X                               A Student of Weather   \n",
       "1031133  8485900057             Rimas y leyendas (Clásicos Fraile ; 3)   \n",
       "1031134  0838934854                   Anglo-American Cataloguing Rules   \n",
       "1031135  3423300965                                   Texte zur Ethik.   \n",
       "\n",
       "                    Book-Author  Year-Of-Publication  \\\n",
       "0            Mark P. O. Morford               2002.0   \n",
       "1          Richard Bruce Wright               2001.0   \n",
       "2                  Carlo D'Este               1991.0   \n",
       "3              Gina Bari Kolata               1999.0   \n",
       "4               E. J. W. Barber               1999.0   \n",
       "...                         ...                  ...   \n",
       "1031131                Ayn Rand               1966.0   \n",
       "1031132           Elizabeth Hay               2001.0   \n",
       "1031133  Gustavo Adolfo Bécquer               1981.0   \n",
       "1031134          Michael Gorman               1998.0   \n",
       "1031135       Dieter Birnbacher               2003.0   \n",
       "\n",
       "                            Publisher  \\\n",
       "0             Oxford University Press   \n",
       "1               HarperFlamingo Canada   \n",
       "2                     HarperPerennial   \n",
       "3                Farrar Straus Giroux   \n",
       "4          W. W. Norton &amp; Company   \n",
       "...                               ...   \n",
       "1031131                  Caxton Press   \n",
       "1031132            Counterpoint Press   \n",
       "1031133              Ediciones Fraile   \n",
       "1031134  American Library Association   \n",
       "1031135                           Dtv   \n",
       "\n",
       "                                               Image-URL-S  \\\n",
       "0        http://images.amazon.com/images/P/0195153448.0...   \n",
       "1        http://images.amazon.com/images/P/0002005018.0...   \n",
       "2        http://images.amazon.com/images/P/0060973129.0...   \n",
       "3        http://images.amazon.com/images/P/0374157065.0...   \n",
       "4        http://images.amazon.com/images/P/0393045218.0...   \n",
       "...                                                    ...   \n",
       "1031131  http://images.amazon.com/images/P/087004124X.0...   \n",
       "1031132  http://images.amazon.com/images/P/158243123X.0...   \n",
       "1031133  http://images.amazon.com/images/P/8485900057.0...   \n",
       "1031134  http://images.amazon.com/images/P/0838934854.0...   \n",
       "1031135  http://images.amazon.com/images/P/3423300965.0...   \n",
       "\n",
       "                                               Image-URL-M  \\\n",
       "0        http://images.amazon.com/images/P/0195153448.0...   \n",
       "1        http://images.amazon.com/images/P/0002005018.0...   \n",
       "2        http://images.amazon.com/images/P/0060973129.0...   \n",
       "3        http://images.amazon.com/images/P/0374157065.0...   \n",
       "4        http://images.amazon.com/images/P/0393045218.0...   \n",
       "...                                                    ...   \n",
       "1031131  http://images.amazon.com/images/P/087004124X.0...   \n",
       "1031132  http://images.amazon.com/images/P/158243123X.0...   \n",
       "1031133  http://images.amazon.com/images/P/8485900057.0...   \n",
       "1031134  http://images.amazon.com/images/P/0838934854.0...   \n",
       "1031135  http://images.amazon.com/images/P/3423300965.0...   \n",
       "\n",
       "                                               Image-URL-L  User-ID  \\\n",
       "0        http://images.amazon.com/images/P/0195153448.0...        2   \n",
       "1        http://images.amazon.com/images/P/0002005018.0...        8   \n",
       "2        http://images.amazon.com/images/P/0060973129.0...        8   \n",
       "3        http://images.amazon.com/images/P/0374157065.0...        8   \n",
       "4        http://images.amazon.com/images/P/0393045218.0...        8   \n",
       "...                                                    ...      ...   \n",
       "1031131  http://images.amazon.com/images/P/087004124X.0...   259589   \n",
       "1031132  http://images.amazon.com/images/P/158243123X.0...   259591   \n",
       "1031133  http://images.amazon.com/images/P/8485900057.0...   259614   \n",
       "1031134  http://images.amazon.com/images/P/0838934854.0...   259679   \n",
       "1031135  http://images.amazon.com/images/P/3423300965.0...   259920   \n",
       "\n",
       "         Book-Rating                                 Location   Age  \n",
       "0                  0                stockton, california, usa  18.0  \n",
       "1                  5                 timmins, ontario, canada  32.0  \n",
       "2                  0                 timmins, ontario, canada  32.0  \n",
       "3                  0                 timmins, ontario, canada  32.0  \n",
       "4                  0                 timmins, ontario, canada  32.0  \n",
       "...              ...                                      ...   ...  \n",
       "1031131            8                     venice, florida, usa  19.0  \n",
       "1031132            8                 tioga, pennsylvania, usa  39.0  \n",
       "1031133           10                    madrid, madrid, spain  22.0  \n",
       "1031134            6                grand prairie, texas, usa  27.0  \n",
       "1031135            0  bielefeld, nordrhein-westfalen, germany  32.0  \n",
       "\n",
       "[1026502 rows x 12 columns]"
      ]
     },
     "execution_count": 66,
     "metadata": {},
     "output_type": "execute_result"
    }
   ],
   "source": [
    "#Now removing outliers we need to plot histogram for Age > 100 OR < 5\n",
    "df_filtered_age = data[(data[\"Age\"] >= 5 ) & (data[\"Age\"]<= 100)]\n",
    "df_filtered_age"
   ]
  },
  {
   "cell_type": "code",
   "execution_count": 67,
   "id": "2a376183",
   "metadata": {},
   "outputs": [],
   "source": [
    "age = df_filtered_age[\"Age\"]"
   ]
  },
  {
   "cell_type": "code",
   "execution_count": 68,
   "id": "bdcbc25f",
   "metadata": {},
   "outputs": [
    {
     "data": {
      "text/plain": [
       "0          18.0\n",
       "1          32.0\n",
       "2          32.0\n",
       "3          32.0\n",
       "4          32.0\n",
       "           ... \n",
       "1031131    19.0\n",
       "1031132    39.0\n",
       "1031133    22.0\n",
       "1031134    27.0\n",
       "1031135    32.0\n",
       "Name: Age, Length: 1026502, dtype: float64"
      ]
     },
     "execution_count": 68,
     "metadata": {},
     "output_type": "execute_result"
    }
   ],
   "source": [
    "age"
   ]
  },
  {
   "cell_type": "code",
   "execution_count": 69,
   "id": "4f4a6e57",
   "metadata": {},
   "outputs": [
    {
     "data": {
      "text/plain": [
       "count    1.026502e+06\n",
       "mean     3.570127e+01\n",
       "std      1.058934e+01\n",
       "min      5.000000e+00\n",
       "25%      3.100000e+01\n",
       "50%      3.200000e+01\n",
       "75%      4.100000e+01\n",
       "max      1.000000e+02\n",
       "Name: Age, dtype: float64"
      ]
     },
     "execution_count": 69,
     "metadata": {},
     "output_type": "execute_result"
    }
   ],
   "source": [
    "age.describe()"
   ]
  },
  {
   "cell_type": "code",
   "execution_count": 70,
   "id": "0114c6aa",
   "metadata": {},
   "outputs": [
    {
     "data": {
      "text/plain": [
       "(1026502,)"
      ]
     },
     "execution_count": 70,
     "metadata": {},
     "output_type": "execute_result"
    }
   ],
   "source": [
    "age.shape"
   ]
  },
  {
   "cell_type": "code",
   "execution_count": 71,
   "id": "ac792250",
   "metadata": {},
   "outputs": [
    {
     "data": {
      "image/png": "[encoded data removed]",
      "text/plain": [
       "<Figure size 1000x600 with 1 Axes>"
      ]
     },
     "metadata": {},
     "output_type": "display_data"
    }
   ],
   "source": [
    "# Plot histogram for the filtered ages\n",
    "plt.figure(figsize=(10, 6))\n",
    "plt.hist(df_filtered_age[\"Age\"], bins=range(0, 130, 10), edgecolor='black', alpha=0.7)\n",
    "plt.xlabel('Age')\n",
    "plt.ylabel('Frequency')\n",
    "plt.title('Histogram of Ages >= 5 and <= 100')\n",
    "plt.xticks(range(0, 130, 10))  # Adjust the x-axis ticks for better readability\n",
    "plt.grid(False)\n",
    "plt.show()"
   ]
  },
  {
   "cell_type": "code",
   "execution_count": 72,
   "id": "b36b6ec0",
   "metadata": {},
   "outputs": [
    {
     "name": "stdout",
     "output_type": "stream",
     "text": [
      "Unique ages between 5 and 100:\n",
      "[ 18.  32.  49.  30.  36.  29.  60.  27.  71.  40.  53.  65.  46.  47.\n",
      "  26.  56.  37.  39.  25.  31.  41.  20.  58.  42.  38.  52.  21.  22.\n",
      "  34.  33.  19.  57.  51.  48.  35.  62.  45.  74.  44.  43.  68.  54.\n",
      "  55.  24.  59.  28.  70.  17.  23.  14.  50.  16.  61.  15.  66.  67.\n",
      "  84.  82.   9.  72.  81.  64.  13.  75.  76.  69.  73.  63.  77.  79.\n",
      "   7.  12.  90.  80.  85.  78.  83.   8. 100.  93.  11.  10.  97.   5.\n",
      "  86.  99.  92.  96.  94.   6.  89.  95.  98.]\n"
     ]
    }
   ],
   "source": [
    "unique_ages = df_filtered_age['Age'].unique()\n",
    "# Display the unique values\n",
    "print(\"Unique ages between 5 and 100:\")\n",
    "print(unique_ages)"
   ]
  },
  {
   "cell_type": "code",
   "execution_count": 73,
   "id": "95d7a02d",
   "metadata": {},
   "outputs": [
    {
     "data": {
      "text/plain": [
       "array([  5.,   6.,   7.,   8.,   9.,  10.,  11.,  12.,  13.,  14.,  15.,\n",
       "        16.,  17.,  18.,  19.,  20.,  21.,  22.,  23.,  24.,  25.,  26.,\n",
       "        27.,  28.,  29.,  30.,  31.,  32.,  33.,  34.,  35.,  36.,  37.,\n",
       "        38.,  39.,  40.,  41.,  42.,  43.,  44.,  45.,  46.,  47.,  48.,\n",
       "        49.,  50.,  51.,  52.,  53.,  54.,  55.,  56.,  57.,  58.,  59.,\n",
       "        60.,  61.,  62.,  63.,  64.,  65.,  66.,  67.,  68.,  69.,  70.,\n",
       "        71.,  72.,  73.,  74.,  75.,  76.,  77.,  78.,  79.,  80.,  81.,\n",
       "        82.,  83.,  84.,  85.,  86.,  89.,  90.,  92.,  93.,  94.,  95.,\n",
       "        96.,  97.,  98.,  99., 100.])"
      ]
     },
     "execution_count": 73,
     "metadata": {},
     "output_type": "execute_result"
    }
   ],
   "source": [
    "np.sort(unique_ages)"
   ]
  },
  {
   "cell_type": "code",
   "execution_count": 74,
   "id": "3becca5d",
   "metadata": {},
   "outputs": [
    {
     "name": "stdout",
     "output_type": "stream",
     "text": [
      "Original DataFrame:\n"
     ]
    },
    {
     "data": {
      "text/html": [
       "<div>\n",
       "<style scoped>\n",
       "    .dataframe tbody tr th:only-of-type {\n",
       "        vertical-align: middle;\n",
       "    }\n",
       "\n",
       "    .dataframe tbody tr th {\n",
       "        vertical-align: top;\n",
       "    }\n",
       "\n",
       "    .dataframe thead th {\n",
       "        text-align: right;\n",
       "    }\n",
       "</style>\n",
       "<table border=\"1\" class=\"dataframe\">\n",
       "  <thead>\n",
       "    <tr style=\"text-align: right;\">\n",
       "      <th></th>\n",
       "      <th>ISBN</th>\n",
       "      <th>Book-Title</th>\n",
       "      <th>Book-Author</th>\n",
       "      <th>Year-Of-Publication</th>\n",
       "      <th>Publisher</th>\n",
       "      <th>Image-URL-S</th>\n",
       "      <th>Image-URL-M</th>\n",
       "      <th>Image-URL-L</th>\n",
       "      <th>User-ID</th>\n",
       "      <th>Book-Rating</th>\n",
       "      <th>Location</th>\n",
       "      <th>Age</th>\n",
       "    </tr>\n",
       "  </thead>\n",
       "  <tbody>\n",
       "    <tr>\n",
       "      <th>0</th>\n",
       "      <td>0195153448</td>\n",
       "      <td>Classical Mythology</td>\n",
       "      <td>Mark P. O. Morford</td>\n",
       "      <td>2002.0</td>\n",
       "      <td>Oxford University Press</td>\n",
       "      <td>http://images.amazon.com/images/P/0195153448.0...</td>\n",
       "      <td>http://images.amazon.com/images/P/0195153448.0...</td>\n",
       "      <td>http://images.amazon.com/images/P/0195153448.0...</td>\n",
       "      <td>2</td>\n",
       "      <td>0</td>\n",
       "      <td>stockton, california, usa</td>\n",
       "      <td>18.0</td>\n",
       "    </tr>\n",
       "    <tr>\n",
       "      <th>1</th>\n",
       "      <td>0002005018</td>\n",
       "      <td>Clara Callan</td>\n",
       "      <td>Richard Bruce Wright</td>\n",
       "      <td>2001.0</td>\n",
       "      <td>HarperFlamingo Canada</td>\n",
       "      <td>http://images.amazon.com/images/P/0002005018.0...</td>\n",
       "      <td>http://images.amazon.com/images/P/0002005018.0...</td>\n",
       "      <td>http://images.amazon.com/images/P/0002005018.0...</td>\n",
       "      <td>8</td>\n",
       "      <td>5</td>\n",
       "      <td>timmins, ontario, canada</td>\n",
       "      <td>32.0</td>\n",
       "    </tr>\n",
       "    <tr>\n",
       "      <th>2</th>\n",
       "      <td>0060973129</td>\n",
       "      <td>Decision in Normandy</td>\n",
       "      <td>Carlo D'Este</td>\n",
       "      <td>1991.0</td>\n",
       "      <td>HarperPerennial</td>\n",
       "      <td>http://images.amazon.com/images/P/0060973129.0...</td>\n",
       "      <td>http://images.amazon.com/images/P/0060973129.0...</td>\n",
       "      <td>http://images.amazon.com/images/P/0060973129.0...</td>\n",
       "      <td>8</td>\n",
       "      <td>0</td>\n",
       "      <td>timmins, ontario, canada</td>\n",
       "      <td>32.0</td>\n",
       "    </tr>\n",
       "    <tr>\n",
       "      <th>3</th>\n",
       "      <td>0374157065</td>\n",
       "      <td>Flu: The Story of the Great Influenza Pandemic...</td>\n",
       "      <td>Gina Bari Kolata</td>\n",
       "      <td>1999.0</td>\n",
       "      <td>Farrar Straus Giroux</td>\n",
       "      <td>http://images.amazon.com/images/P/0374157065.0...</td>\n",
       "      <td>http://images.amazon.com/images/P/0374157065.0...</td>\n",
       "      <td>http://images.amazon.com/images/P/0374157065.0...</td>\n",
       "      <td>8</td>\n",
       "      <td>0</td>\n",
       "      <td>timmins, ontario, canada</td>\n",
       "      <td>32.0</td>\n",
       "    </tr>\n",
       "    <tr>\n",
       "      <th>4</th>\n",
       "      <td>0393045218</td>\n",
       "      <td>The Mummies of Urumchi</td>\n",
       "      <td>E. J. W. Barber</td>\n",
       "      <td>1999.0</td>\n",
       "      <td>W. W. Norton &amp;amp; Company</td>\n",
       "      <td>http://images.amazon.com/images/P/0393045218.0...</td>\n",
       "      <td>http://images.amazon.com/images/P/0393045218.0...</td>\n",
       "      <td>http://images.amazon.com/images/P/0393045218.0...</td>\n",
       "      <td>8</td>\n",
       "      <td>0</td>\n",
       "      <td>timmins, ontario, canada</td>\n",
       "      <td>32.0</td>\n",
       "    </tr>\n",
       "    <tr>\n",
       "      <th>...</th>\n",
       "      <td>...</td>\n",
       "      <td>...</td>\n",
       "      <td>...</td>\n",
       "      <td>...</td>\n",
       "      <td>...</td>\n",
       "      <td>...</td>\n",
       "      <td>...</td>\n",
       "      <td>...</td>\n",
       "      <td>...</td>\n",
       "      <td>...</td>\n",
       "      <td>...</td>\n",
       "      <td>...</td>\n",
       "    </tr>\n",
       "    <tr>\n",
       "      <th>1031131</th>\n",
       "      <td>087004124X</td>\n",
       "      <td>Anthem</td>\n",
       "      <td>Ayn Rand</td>\n",
       "      <td>1966.0</td>\n",
       "      <td>Caxton Press</td>\n",
       "      <td>http://images.amazon.com/images/P/087004124X.0...</td>\n",
       "      <td>http://images.amazon.com/images/P/087004124X.0...</td>\n",
       "      <td>http://images.amazon.com/images/P/087004124X.0...</td>\n",
       "      <td>259589</td>\n",
       "      <td>8</td>\n",
       "      <td>venice, florida, usa</td>\n",
       "      <td>19.0</td>\n",
       "    </tr>\n",
       "    <tr>\n",
       "      <th>1031132</th>\n",
       "      <td>158243123X</td>\n",
       "      <td>A Student of Weather</td>\n",
       "      <td>Elizabeth Hay</td>\n",
       "      <td>2001.0</td>\n",
       "      <td>Counterpoint Press</td>\n",
       "      <td>http://images.amazon.com/images/P/158243123X.0...</td>\n",
       "      <td>http://images.amazon.com/images/P/158243123X.0...</td>\n",
       "      <td>http://images.amazon.com/images/P/158243123X.0...</td>\n",
       "      <td>259591</td>\n",
       "      <td>8</td>\n",
       "      <td>tioga, pennsylvania, usa</td>\n",
       "      <td>39.0</td>\n",
       "    </tr>\n",
       "    <tr>\n",
       "      <th>1031133</th>\n",
       "      <td>8485900057</td>\n",
       "      <td>Rimas y leyendas (Clásicos Fraile ; 3)</td>\n",
       "      <td>Gustavo Adolfo Bécquer</td>\n",
       "      <td>1981.0</td>\n",
       "      <td>Ediciones Fraile</td>\n",
       "      <td>http://images.amazon.com/images/P/8485900057.0...</td>\n",
       "      <td>http://images.amazon.com/images/P/8485900057.0...</td>\n",
       "      <td>http://images.amazon.com/images/P/8485900057.0...</td>\n",
       "      <td>259614</td>\n",
       "      <td>10</td>\n",
       "      <td>madrid, madrid, spain</td>\n",
       "      <td>22.0</td>\n",
       "    </tr>\n",
       "    <tr>\n",
       "      <th>1031134</th>\n",
       "      <td>0838934854</td>\n",
       "      <td>Anglo-American Cataloguing Rules</td>\n",
       "      <td>Michael Gorman</td>\n",
       "      <td>1998.0</td>\n",
       "      <td>American Library Association</td>\n",
       "      <td>http://images.amazon.com/images/P/0838934854.0...</td>\n",
       "      <td>http://images.amazon.com/images/P/0838934854.0...</td>\n",
       "      <td>http://images.amazon.com/images/P/0838934854.0...</td>\n",
       "      <td>259679</td>\n",
       "      <td>6</td>\n",
       "      <td>grand prairie, texas, usa</td>\n",
       "      <td>27.0</td>\n",
       "    </tr>\n",
       "    <tr>\n",
       "      <th>1031135</th>\n",
       "      <td>3423300965</td>\n",
       "      <td>Texte zur Ethik.</td>\n",
       "      <td>Dieter Birnbacher</td>\n",
       "      <td>2003.0</td>\n",
       "      <td>Dtv</td>\n",
       "      <td>http://images.amazon.com/images/P/3423300965.0...</td>\n",
       "      <td>http://images.amazon.com/images/P/3423300965.0...</td>\n",
       "      <td>http://images.amazon.com/images/P/3423300965.0...</td>\n",
       "      <td>259920</td>\n",
       "      <td>0</td>\n",
       "      <td>bielefeld, nordrhein-westfalen, germany</td>\n",
       "      <td>32.0</td>\n",
       "    </tr>\n",
       "  </tbody>\n",
       "</table>\n",
       "<p>1031136 rows × 12 columns</p>\n",
       "</div>"
      ],
      "text/plain": [
       "               ISBN                                         Book-Title  \\\n",
       "0        0195153448                                Classical Mythology   \n",
       "1        0002005018                                       Clara Callan   \n",
       "2        0060973129                               Decision in Normandy   \n",
       "3        0374157065  Flu: The Story of the Great Influenza Pandemic...   \n",
       "4        0393045218                             The Mummies of Urumchi   \n",
       "...             ...                                                ...   \n",
       "1031131  087004124X                                             Anthem   \n",
       "1031132  158243123X                               A Student of Weather   \n",
       "1031133  8485900057             Rimas y leyendas (Clásicos Fraile ; 3)   \n",
       "1031134  0838934854                   Anglo-American Cataloguing Rules   \n",
       "1031135  3423300965                                   Texte zur Ethik.   \n",
       "\n",
       "                    Book-Author  Year-Of-Publication  \\\n",
       "0            Mark P. O. Morford               2002.0   \n",
       "1          Richard Bruce Wright               2001.0   \n",
       "2                  Carlo D'Este               1991.0   \n",
       "3              Gina Bari Kolata               1999.0   \n",
       "4               E. J. W. Barber               1999.0   \n",
       "...                         ...                  ...   \n",
       "1031131                Ayn Rand               1966.0   \n",
       "1031132           Elizabeth Hay               2001.0   \n",
       "1031133  Gustavo Adolfo Bécquer               1981.0   \n",
       "1031134          Michael Gorman               1998.0   \n",
       "1031135       Dieter Birnbacher               2003.0   \n",
       "\n",
       "                            Publisher  \\\n",
       "0             Oxford University Press   \n",
       "1               HarperFlamingo Canada   \n",
       "2                     HarperPerennial   \n",
       "3                Farrar Straus Giroux   \n",
       "4          W. W. Norton &amp; Company   \n",
       "...                               ...   \n",
       "1031131                  Caxton Press   \n",
       "1031132            Counterpoint Press   \n",
       "1031133              Ediciones Fraile   \n",
       "1031134  American Library Association   \n",
       "1031135                           Dtv   \n",
       "\n",
       "                                               Image-URL-S  \\\n",
       "0        http://images.amazon.com/images/P/0195153448.0...   \n",
       "1        http://images.amazon.com/images/P/0002005018.0...   \n",
       "2        http://images.amazon.com/images/P/0060973129.0...   \n",
       "3        http://images.amazon.com/images/P/0374157065.0...   \n",
       "4        http://images.amazon.com/images/P/0393045218.0...   \n",
       "...                                                    ...   \n",
       "1031131  http://images.amazon.com/images/P/087004124X.0...   \n",
       "1031132  http://images.amazon.com/images/P/158243123X.0...   \n",
       "1031133  http://images.amazon.com/images/P/8485900057.0...   \n",
       "1031134  http://images.amazon.com/images/P/0838934854.0...   \n",
       "1031135  http://images.amazon.com/images/P/3423300965.0...   \n",
       "\n",
       "                                               Image-URL-M  \\\n",
       "0        http://images.amazon.com/images/P/0195153448.0...   \n",
       "1        http://images.amazon.com/images/P/0002005018.0...   \n",
       "2        http://images.amazon.com/images/P/0060973129.0...   \n",
       "3        http://images.amazon.com/images/P/0374157065.0...   \n",
       "4        http://images.amazon.com/images/P/0393045218.0...   \n",
       "...                                                    ...   \n",
       "1031131  http://images.amazon.com/images/P/087004124X.0...   \n",
       "1031132  http://images.amazon.com/images/P/158243123X.0...   \n",
       "1031133  http://images.amazon.com/images/P/8485900057.0...   \n",
       "1031134  http://images.amazon.com/images/P/0838934854.0...   \n",
       "1031135  http://images.amazon.com/images/P/3423300965.0...   \n",
       "\n",
       "                                               Image-URL-L  User-ID  \\\n",
       "0        http://images.amazon.com/images/P/0195153448.0...        2   \n",
       "1        http://images.amazon.com/images/P/0002005018.0...        8   \n",
       "2        http://images.amazon.com/images/P/0060973129.0...        8   \n",
       "3        http://images.amazon.com/images/P/0374157065.0...        8   \n",
       "4        http://images.amazon.com/images/P/0393045218.0...        8   \n",
       "...                                                    ...      ...   \n",
       "1031131  http://images.amazon.com/images/P/087004124X.0...   259589   \n",
       "1031132  http://images.amazon.com/images/P/158243123X.0...   259591   \n",
       "1031133  http://images.amazon.com/images/P/8485900057.0...   259614   \n",
       "1031134  http://images.amazon.com/images/P/0838934854.0...   259679   \n",
       "1031135  http://images.amazon.com/images/P/3423300965.0...   259920   \n",
       "\n",
       "         Book-Rating                                 Location   Age  \n",
       "0                  0                stockton, california, usa  18.0  \n",
       "1                  5                 timmins, ontario, canada  32.0  \n",
       "2                  0                 timmins, ontario, canada  32.0  \n",
       "3                  0                 timmins, ontario, canada  32.0  \n",
       "4                  0                 timmins, ontario, canada  32.0  \n",
       "...              ...                                      ...   ...  \n",
       "1031131            8                     venice, florida, usa  19.0  \n",
       "1031132            8                 tioga, pennsylvania, usa  39.0  \n",
       "1031133           10                    madrid, madrid, spain  22.0  \n",
       "1031134            6                grand prairie, texas, usa  27.0  \n",
       "1031135            0  bielefeld, nordrhein-westfalen, germany  32.0  \n",
       "\n",
       "[1031136 rows x 12 columns]"
      ]
     },
     "execution_count": 74,
     "metadata": {},
     "output_type": "execute_result"
    }
   ],
   "source": [
    "#To see my original data\n",
    "print(\"Original DataFrame:\")\n",
    "data"
   ]
  },
  {
   "cell_type": "code",
   "execution_count": 75,
   "id": "6b7c13cc",
   "metadata": {},
   "outputs": [
    {
     "data": {
      "text/html": [
       "<div>\n",
       "<style scoped>\n",
       "    .dataframe tbody tr th:only-of-type {\n",
       "        vertical-align: middle;\n",
       "    }\n",
       "\n",
       "    .dataframe tbody tr th {\n",
       "        vertical-align: top;\n",
       "    }\n",
       "\n",
       "    .dataframe thead th {\n",
       "        text-align: right;\n",
       "    }\n",
       "</style>\n",
       "<table border=\"1\" class=\"dataframe\">\n",
       "  <thead>\n",
       "    <tr style=\"text-align: right;\">\n",
       "      <th></th>\n",
       "      <th>Year-Of-Publication</th>\n",
       "      <th>User-ID</th>\n",
       "      <th>Book-Rating</th>\n",
       "      <th>Age</th>\n",
       "    </tr>\n",
       "  </thead>\n",
       "  <tbody>\n",
       "    <tr>\n",
       "      <th>count</th>\n",
       "      <td>1.031132e+06</td>\n",
       "      <td>1.031136e+06</td>\n",
       "      <td>1.031136e+06</td>\n",
       "      <td>1.031136e+06</td>\n",
       "    </tr>\n",
       "    <tr>\n",
       "      <th>mean</th>\n",
       "      <td>1.968195e+03</td>\n",
       "      <td>1.405945e+05</td>\n",
       "      <td>2.839051e+00</td>\n",
       "      <td>3.594328e+01</td>\n",
       "    </tr>\n",
       "    <tr>\n",
       "      <th>std</th>\n",
       "      <td>2.311015e+02</td>\n",
       "      <td>8.052466e+04</td>\n",
       "      <td>3.854157e+00</td>\n",
       "      <td>1.228579e+01</td>\n",
       "    </tr>\n",
       "    <tr>\n",
       "      <th>min</th>\n",
       "      <td>0.000000e+00</td>\n",
       "      <td>2.000000e+00</td>\n",
       "      <td>0.000000e+00</td>\n",
       "      <td>0.000000e+00</td>\n",
       "    </tr>\n",
       "    <tr>\n",
       "      <th>25%</th>\n",
       "      <td>1.992000e+03</td>\n",
       "      <td>7.041500e+04</td>\n",
       "      <td>0.000000e+00</td>\n",
       "      <td>3.100000e+01</td>\n",
       "    </tr>\n",
       "    <tr>\n",
       "      <th>50%</th>\n",
       "      <td>1.997000e+03</td>\n",
       "      <td>1.412100e+05</td>\n",
       "      <td>0.000000e+00</td>\n",
       "      <td>3.200000e+01</td>\n",
       "    </tr>\n",
       "    <tr>\n",
       "      <th>75%</th>\n",
       "      <td>2.001000e+03</td>\n",
       "      <td>2.114260e+05</td>\n",
       "      <td>7.000000e+00</td>\n",
       "      <td>4.100000e+01</td>\n",
       "    </tr>\n",
       "    <tr>\n",
       "      <th>max</th>\n",
       "      <td>2.050000e+03</td>\n",
       "      <td>2.788540e+05</td>\n",
       "      <td>1.000000e+01</td>\n",
       "      <td>2.440000e+02</td>\n",
       "    </tr>\n",
       "  </tbody>\n",
       "</table>\n",
       "</div>"
      ],
      "text/plain": [
       "       Year-Of-Publication       User-ID   Book-Rating           Age\n",
       "count         1.031132e+06  1.031136e+06  1.031136e+06  1.031136e+06\n",
       "mean          1.968195e+03  1.405945e+05  2.839051e+00  3.594328e+01\n",
       "std           2.311015e+02  8.052466e+04  3.854157e+00  1.228579e+01\n",
       "min           0.000000e+00  2.000000e+00  0.000000e+00  0.000000e+00\n",
       "25%           1.992000e+03  7.041500e+04  0.000000e+00  3.100000e+01\n",
       "50%           1.997000e+03  1.412100e+05  0.000000e+00  3.200000e+01\n",
       "75%           2.001000e+03  2.114260e+05  7.000000e+00  4.100000e+01\n",
       "max           2.050000e+03  2.788540e+05  1.000000e+01  2.440000e+02"
      ]
     },
     "execution_count": 75,
     "metadata": {},
     "output_type": "execute_result"
    }
   ],
   "source": [
    "data.describe()"
   ]
  },
  {
   "cell_type": "code",
   "execution_count": 76,
   "id": "bb562262",
   "metadata": {},
   "outputs": [
    {
     "data": {
      "text/plain": [
       "Index(['ISBN', 'Book-Title', 'Book-Author', 'Year-Of-Publication', 'Publisher',\n",
       "       'Image-URL-S', 'Image-URL-M', 'Image-URL-L', 'User-ID', 'Book-Rating',\n",
       "       'Location', 'Age'],\n",
       "      dtype='object')"
      ]
     },
     "execution_count": 76,
     "metadata": {},
     "output_type": "execute_result"
    }
   ],
   "source": [
    "data.columns"
   ]
  },
  {
   "cell_type": "code",
   "execution_count": 77,
   "id": "49785dca",
   "metadata": {},
   "outputs": [
    {
     "data": {
      "text/plain": [
       "Index(['ISBN', 'Book-Title', 'Book-Author', 'Year-Of-Publication', 'Publisher',\n",
       "       'Image-URL-S', 'Image-URL-M', 'Image-URL-L', 'User-ID', 'Book-Rating',\n",
       "       'Location', 'Age'],\n",
       "      dtype='object')"
      ]
     },
     "execution_count": 77,
     "metadata": {},
     "output_type": "execute_result"
    }
   ],
   "source": [
    "explicit_rating.columns"
   ]
  },
  {
   "cell_type": "code",
   "execution_count": 78,
   "id": "435ed518",
   "metadata": {},
   "outputs": [
    {
     "data": {
      "text/plain": [
       "Index(['ISBN', 'Book-Title', 'Book-Author', 'Year-Of-Publication', 'Publisher',\n",
       "       'Image-URL-S', 'Image-URL-M', 'Image-URL-L', 'User-ID', 'Book-Rating',\n",
       "       'Location', 'Age'],\n",
       "      dtype='object')"
      ]
     },
     "execution_count": 78,
     "metadata": {},
     "output_type": "execute_result"
    }
   ],
   "source": [
    "df_filtered_year.columns"
   ]
  },
  {
   "cell_type": "code",
   "execution_count": 79,
   "id": "0749d66d",
   "metadata": {},
   "outputs": [
    {
     "data": {
      "text/plain": [
       "Index(['ISBN', 'Book-Title', 'Book-Author', 'Year-Of-Publication', 'Publisher',\n",
       "       'Image-URL-S', 'Image-URL-M', 'Image-URL-L', 'User-ID', 'Book-Rating',\n",
       "       'Location', 'Age'],\n",
       "      dtype='object')"
      ]
     },
     "execution_count": 79,
     "metadata": {},
     "output_type": "execute_result"
    }
   ],
   "source": [
    "df_filtered_age.columns"
   ]
  },
  {
   "cell_type": "code",
   "execution_count": 80,
   "id": "223af743",
   "metadata": {},
   "outputs": [
    {
     "name": "stdout",
     "output_type": "stream",
     "text": [
      "df_filtered_year:\n",
      "                                                Book-Title  \\\n",
      "0                                      Classical Mythology   \n",
      "1                                             Clara Callan   \n",
      "2                                     Decision in Normandy   \n",
      "3        Flu: The Story of the Great Influenza Pandemic...   \n",
      "4                                   The Mummies of Urumchi   \n",
      "...                                                    ...   \n",
      "1031131                                             Anthem   \n",
      "1031132                               A Student of Weather   \n",
      "1031133             Rimas y leyendas (Clásicos Fraile ; 3)   \n",
      "1031134                   Anglo-American Cataloguing Rules   \n",
      "1031135                                   Texte zur Ethik.   \n",
      "\n",
      "         Year-Of-Publication  \n",
      "0                     2002.0  \n",
      "1                     2001.0  \n",
      "2                     1991.0  \n",
      "3                     1999.0  \n",
      "4                     1999.0  \n",
      "...                      ...  \n",
      "1031131               1966.0  \n",
      "1031132               2001.0  \n",
      "1031133               1981.0  \n",
      "1031134               1998.0  \n",
      "1031135               2003.0  \n",
      "\n",
      "[1017066 rows x 2 columns]\n"
     ]
    }
   ],
   "source": [
    "# Removing all columns except 'Book-Title' & 'Year-Of-Publication' in df_filtered_year\n",
    "df_filtered_year = df_filtered_year[['Book-Title', 'Year-Of-Publication']]\n",
    "# Display the modified dataframes\n",
    "print(\"df_filtered_year:\")\n",
    "print(df_filtered_year)"
   ]
  },
  {
   "cell_type": "code",
   "execution_count": 81,
   "id": "3945fce0",
   "metadata": {},
   "outputs": [
    {
     "name": "stdout",
     "output_type": "stream",
     "text": [
      "\n",
      "explicit_rating:\n",
      "                                                Book-Title  Book-Rating\n",
      "1                                             Clara Callan            5\n",
      "9                  Where You'll Find Me: And Other Stories            5\n",
      "12                                      The Middle Stories            5\n",
      "13                                                Jane Doe            5\n",
      "15            The Witchfinder (Amos Walker Mystery Series)            6\n",
      "...                                                    ...          ...\n",
      "1031129  Sobre La Utilidad y Los Perjuicios de La Historia            6\n",
      "1031131                                             Anthem            8\n",
      "1031132                               A Student of Weather            8\n",
      "1031133             Rimas y leyendas (Clásicos Fraile ; 3)           10\n",
      "1031134                   Anglo-American Cataloguing Rules            6\n",
      "\n",
      "[383842 rows x 2 columns]\n"
     ]
    }
   ],
   "source": [
    "# Removing all columns except 'Book-Title' & 'Book-Rating' in explicit_rating\n",
    "explicit_rating = explicit_rating[['Book-Title', 'Book-Rating']]\n",
    "print(\"\\nexplicit_rating:\")\n",
    "print(explicit_rating)"
   ]
  },
  {
   "cell_type": "code",
   "execution_count": 82,
   "id": "6f01cec0",
   "metadata": {},
   "outputs": [
    {
     "name": "stdout",
     "output_type": "stream",
     "text": [
      "\n",
      "df_filtered_age:\n",
      "                                                Book-Title   Age\n",
      "0                                      Classical Mythology  18.0\n",
      "1                                             Clara Callan  32.0\n",
      "2                                     Decision in Normandy  32.0\n",
      "3        Flu: The Story of the Great Influenza Pandemic...  32.0\n",
      "4                                   The Mummies of Urumchi  32.0\n",
      "...                                                    ...   ...\n",
      "1031131                                             Anthem  19.0\n",
      "1031132                               A Student of Weather  39.0\n",
      "1031133             Rimas y leyendas (Clásicos Fraile ; 3)  22.0\n",
      "1031134                   Anglo-American Cataloguing Rules  27.0\n",
      "1031135                                   Texte zur Ethik.  32.0\n",
      "\n",
      "[1026502 rows x 2 columns]\n"
     ]
    }
   ],
   "source": [
    "# Removing all columns except 'Book-Title' & 'Age' in df_filtered_age\n",
    "df_filtered_age = df_filtered_age[['Book-Title', 'Age']]\n",
    "print(\"\\ndf_filtered_age:\")\n",
    "print(df_filtered_age)"
   ]
  },
  {
   "cell_type": "code",
   "execution_count": 83,
   "id": "639f4cd8",
   "metadata": {},
   "outputs": [],
   "source": [
    "#MemoryError: Unable to allocate 97.6 GiB for an array with shape (13096467644,) and data type int64 hence executing below steps"
   ]
  },
  {
   "cell_type": "code",
   "execution_count": 84,
   "id": "33710ad2",
   "metadata": {},
   "outputs": [
    {
     "name": "stdout",
     "output_type": "stream",
     "text": [
      "Requirement already satisfied: dask in c:\\users\\admin\\anaconda3\\lib\\site-packages (2022.7.0)\n",
      "Requirement already satisfied: fsspec>=0.6.0 in c:\\users\\admin\\anaconda3\\lib\\site-packages (from dask) (2022.7.1)\n",
      "Requirement already satisfied: toolz>=0.8.2 in c:\\users\\admin\\anaconda3\\lib\\site-packages (from dask) (0.11.2)\n",
      "Requirement already satisfied: packaging>=20.0 in c:\\users\\admin\\anaconda3\\lib\\site-packages (from dask) (21.3)\n",
      "Requirement already satisfied: partd>=0.3.10 in c:\\users\\admin\\anaconda3\\lib\\site-packages (from dask) (1.2.0)\n",
      "Requirement already satisfied: cloudpickle>=1.1.1 in c:\\users\\admin\\anaconda3\\lib\\site-packages (from dask) (2.0.0)\n",
      "Requirement already satisfied: pyyaml>=5.3.1 in c:\\users\\admin\\anaconda3\\lib\\site-packages (from dask) (6.0)\n",
      "Requirement already satisfied: pyparsing!=3.0.5,>=2.0.2 in c:\\users\\admin\\anaconda3\\lib\\site-packages (from packaging>=20.0->dask) (3.0.9)\n",
      "Requirement already satisfied: locket in c:\\users\\admin\\anaconda3\\lib\\site-packages (from partd>=0.3.10->dask) (1.0.0)\n",
      "Note: you may need to restart the kernel to use updated packages.\n"
     ]
    }
   ],
   "source": [
    "pip install dask"
   ]
  },
  {
   "cell_type": "code",
   "execution_count": 85,
   "id": "fea756a7",
   "metadata": {},
   "outputs": [],
   "source": [
    "import dask.dataframe as dd"
   ]
  },
  {
   "cell_type": "code",
   "execution_count": 86,
   "id": "176ca725",
   "metadata": {},
   "outputs": [],
   "source": [
    "#Convert a DataFrame to a CSV file using the to_csv() method in pandas\n",
    "explicit_rating.to_csv('explicit_rating.csv', index=False)"
   ]
  },
  {
   "cell_type": "code",
   "execution_count": 87,
   "id": "32708fda",
   "metadata": {},
   "outputs": [],
   "source": [
    "#Similarly for df_filtered_year & df_filtered_age\n",
    "df_filtered_year.to_csv('df_filtered_year.csv', index=False)\n"
   ]
  },
  {
   "cell_type": "code",
   "execution_count": 88,
   "id": "708310ae",
   "metadata": {},
   "outputs": [],
   "source": [
    "df_filtered_age.to_csv('df_filtered_age.csv', index=False)"
   ]
  },
  {
   "cell_type": "code",
   "execution_count": 89,
   "id": "845f2f7a",
   "metadata": {},
   "outputs": [],
   "source": [
    "explicit_rating = dd.read_csv('explicit_rating.csv')\n",
    "df_filtered_year = dd.read_csv('df_filtered_year.csv')\n",
    "df_filtered_age = dd.read_csv('df_filtered_age.csv')"
   ]
  },
  {
   "cell_type": "code",
   "execution_count": 90,
   "id": "0622c2e7",
   "metadata": {},
   "outputs": [
    {
     "data": {
      "text/html": [
       "<div>\n",
       "<style scoped>\n",
       "    .dataframe tbody tr th:only-of-type {\n",
       "        vertical-align: middle;\n",
       "    }\n",
       "\n",
       "    .dataframe tbody tr th {\n",
       "        vertical-align: top;\n",
       "    }\n",
       "\n",
       "    .dataframe thead th {\n",
       "        text-align: right;\n",
       "    }\n",
       "</style>\n",
       "<table border=\"1\" class=\"dataframe\">\n",
       "  <thead>\n",
       "    <tr style=\"text-align: right;\">\n",
       "      <th></th>\n",
       "      <th>Year-Of-Publication</th>\n",
       "      <th>User-ID</th>\n",
       "      <th>Book-Rating</th>\n",
       "      <th>Age</th>\n",
       "    </tr>\n",
       "  </thead>\n",
       "  <tbody>\n",
       "    <tr>\n",
       "      <th>count</th>\n",
       "      <td>1.031132e+06</td>\n",
       "      <td>1.031136e+06</td>\n",
       "      <td>1.031136e+06</td>\n",
       "      <td>1.031136e+06</td>\n",
       "    </tr>\n",
       "    <tr>\n",
       "      <th>mean</th>\n",
       "      <td>1.968195e+03</td>\n",
       "      <td>1.405945e+05</td>\n",
       "      <td>2.839051e+00</td>\n",
       "      <td>3.594328e+01</td>\n",
       "    </tr>\n",
       "    <tr>\n",
       "      <th>std</th>\n",
       "      <td>2.311015e+02</td>\n",
       "      <td>8.052466e+04</td>\n",
       "      <td>3.854157e+00</td>\n",
       "      <td>1.228579e+01</td>\n",
       "    </tr>\n",
       "    <tr>\n",
       "      <th>min</th>\n",
       "      <td>0.000000e+00</td>\n",
       "      <td>2.000000e+00</td>\n",
       "      <td>0.000000e+00</td>\n",
       "      <td>0.000000e+00</td>\n",
       "    </tr>\n",
       "    <tr>\n",
       "      <th>25%</th>\n",
       "      <td>1.992000e+03</td>\n",
       "      <td>7.041500e+04</td>\n",
       "      <td>0.000000e+00</td>\n",
       "      <td>3.100000e+01</td>\n",
       "    </tr>\n",
       "    <tr>\n",
       "      <th>50%</th>\n",
       "      <td>1.997000e+03</td>\n",
       "      <td>1.412100e+05</td>\n",
       "      <td>0.000000e+00</td>\n",
       "      <td>3.200000e+01</td>\n",
       "    </tr>\n",
       "    <tr>\n",
       "      <th>75%</th>\n",
       "      <td>2.001000e+03</td>\n",
       "      <td>2.114260e+05</td>\n",
       "      <td>7.000000e+00</td>\n",
       "      <td>4.100000e+01</td>\n",
       "    </tr>\n",
       "    <tr>\n",
       "      <th>max</th>\n",
       "      <td>2.050000e+03</td>\n",
       "      <td>2.788540e+05</td>\n",
       "      <td>1.000000e+01</td>\n",
       "      <td>2.440000e+02</td>\n",
       "    </tr>\n",
       "  </tbody>\n",
       "</table>\n",
       "</div>"
      ],
      "text/plain": [
       "       Year-Of-Publication       User-ID   Book-Rating           Age\n",
       "count         1.031132e+06  1.031136e+06  1.031136e+06  1.031136e+06\n",
       "mean          1.968195e+03  1.405945e+05  2.839051e+00  3.594328e+01\n",
       "std           2.311015e+02  8.052466e+04  3.854157e+00  1.228579e+01\n",
       "min           0.000000e+00  2.000000e+00  0.000000e+00  0.000000e+00\n",
       "25%           1.992000e+03  7.041500e+04  0.000000e+00  3.100000e+01\n",
       "50%           1.997000e+03  1.412100e+05  0.000000e+00  3.200000e+01\n",
       "75%           2.001000e+03  2.114260e+05  7.000000e+00  4.100000e+01\n",
       "max           2.050000e+03  2.788540e+05  1.000000e+01  2.440000e+02"
      ]
     },
     "execution_count": 90,
     "metadata": {},
     "output_type": "execute_result"
    }
   ],
   "source": [
    "data.describe()"
   ]
  },
  {
   "cell_type": "code",
   "execution_count": 91,
   "id": "1506756d",
   "metadata": {},
   "outputs": [],
   "source": [
    "df=data"
   ]
  },
  {
   "cell_type": "code",
   "execution_count": null,
   "id": "51bbbb9e",
   "metadata": {},
   "outputs": [],
   "source": []
  },
  {
   "cell_type": "code",
   "execution_count": 92,
   "id": "79533983",
   "metadata": {},
   "outputs": [
    {
     "name": "stdout",
     "output_type": "stream",
     "text": [
      "Top 20 ISBN from merged dataset : \n",
      "\n",
      "0971880107    2502\n",
      "0316666343    1295\n",
      "0385504209     883\n",
      "0060928336     732\n",
      "0312195516     723\n",
      "044023722X     647\n",
      "0142001740     615\n",
      "067976402X     614\n",
      "0671027360     586\n",
      "0446672211     585\n",
      "059035342X     571\n",
      "0316601950     568\n",
      "0375727345     552\n",
      "044021145X     529\n",
      "0452282152     526\n",
      "0440214041     523\n",
      "0804106304     519\n",
      "0440211727     517\n",
      "0345337662     506\n",
      "0060930535     494\n",
      "Name: ISBN, dtype: int64\n"
     ]
    }
   ],
   "source": [
    "#to find out top 20 'ISBN', 'Book-Title', 'Book-Author', 'Year-Of-Publication', 'Publisher','User-ID', 'Book-Rating' 'Location' & 'Age' .\n",
    "\n",
    "top_ISBN = df['ISBN'].value_counts().head(20)\n",
    "print(f\"Top 20 ISBN from merged dataset : \\n\\n{top_ISBN}\")\n"
   ]
  },
  {
   "cell_type": "code",
   "execution_count": 93,
   "id": "f1554506",
   "metadata": {},
   "outputs": [
    {
     "name": "stdout",
     "output_type": "stream",
     "text": [
      "Top 20 Books from merged dataset : \n",
      "Wild Animus                                                         2502\n",
      "The Lovely Bones: A Novel                                           1295\n",
      "The Da Vinci Code                                                    898\n",
      "A Painted House                                                      838\n",
      "The Nanny Diaries: A Novel                                           828\n",
      "Bridget Jones's Diary                                                815\n",
      "The Secret Life of Bees                                              774\n",
      "Divine Secrets of the Ya-Ya Sisterhood: A Novel                      740\n",
      "The Red Tent (Bestselling Backlist)                                  723\n",
      "Angels &amp; Demons                                                  670\n",
      "Life of Pi                                                           664\n",
      "Snow Falling on Cedars                                               662\n",
      "The Summons                                                          655\n",
      "The Notebook                                                         650\n",
      "The Testament                                                        617\n",
      "House of Sand and Fog                                                588\n",
      "Where the Heart Is (Oprah's Book Club (Paperback))                   585\n",
      "The Pelican Brief                                                    581\n",
      "Harry Potter and the Sorcerer's Stone (Harry Potter (Paperback))     575\n",
      "The Girls' Guide to Hunting and Fishing                              573\n",
      "Name: Book-Title, dtype: int64\n"
     ]
    }
   ],
   "source": [
    "top_books = df['Book-Title'].value_counts().head(20)\n",
    "print(f\"Top 20 Books from merged dataset : \\n{top_books}\")"
   ]
  },
  {
   "cell_type": "code",
   "execution_count": 94,
   "id": "9032261d",
   "metadata": {},
   "outputs": [
    {
     "name": "stdout",
     "output_type": "stream",
     "text": [
      "Top 20 Book-Author from merged dataset : \n",
      "\n",
      "Stephen King                 10053\n",
      "Nora Roberts                  8429\n",
      "John Grisham                  6010\n",
      "James Patterson               5845\n",
      "Mary Higgins Clark            4777\n",
      "Dean R. Koontz                4313\n",
      "Tom Clancy                    4036\n",
      "Danielle Steel                3726\n",
      "Sue Grafton                   3457\n",
      "Janet Evanovich               3350\n",
      "Anne Rice                     3030\n",
      "Michael Crichton              2921\n",
      "J. K. Rowling                 2908\n",
      "JOHN GRISHAM                  2808\n",
      "V.C. Andrews                  2785\n",
      "Sandra Brown                  2663\n",
      "Nicholas Sparks               2650\n",
      "R. L. Stine                   2606\n",
      "Rich Shapero                  2502\n",
      "Patricia Daniels Cornwell     2461\n",
      "Name: Book-Author, dtype: int64\n"
     ]
    }
   ],
   "source": [
    "top_authors = df['Book-Author'].value_counts().head(20)\n",
    "print(f\"Top 20 Book-Author from merged dataset : \\n\\n{top_authors}\")"
   ]
  },
  {
   "cell_type": "code",
   "execution_count": 95,
   "id": "34e5502c",
   "metadata": {},
   "outputs": [
    {
     "name": "stdout",
     "output_type": "stream",
     "text": [
      "Top 20 Year-Of-Publication from df_filtered_year dataset :\n",
      "\n",
      "2002.0    91800\n",
      "2001.0    79801\n",
      "1999.0    75194\n",
      "2003.0    72538\n",
      "2000.0    72326\n",
      "1998.0    64208\n",
      "1997.0    59357\n",
      "1996.0    58825\n",
      "1995.0    54091\n",
      "1994.0    46444\n",
      "1993.0    38190\n",
      "1992.0    35194\n",
      "1991.0    32722\n",
      "1990.0    30552\n",
      "2004.0    25971\n",
      "1989.0    25163\n",
      "1988.0    20879\n",
      "1987.0    18896\n",
      "1986.0    16859\n",
      "1984.0    13806\n",
      "Name: Year-Of-Publication, dtype: int64\n"
     ]
    }
   ],
   "source": [
    "top_years = df_filtered_year['Year-Of-Publication'].value_counts().head(20)\n",
    "print(f\"Top 20 Year-Of-Publication from df_filtered_year dataset :\\n\\n{top_years}\")"
   ]
  },
  {
   "cell_type": "code",
   "execution_count": 96,
   "id": "7c826625",
   "metadata": {},
   "outputs": [
    {
     "name": "stdout",
     "output_type": "stream",
     "text": [
      "Top 20 Publisher from merged dataset :\n",
      "\n",
      "Ballantine Books            34724\n",
      "Pocket                      31989\n",
      "Berkley Publishing Group    28614\n",
      "Warner Books                25506\n",
      "Harlequin                   25027\n",
      "Bantam Books                23598\n",
      "Bantam                      20007\n",
      "Signet Book                 19155\n",
      "Avon                        17352\n",
      "Penguin Books               17033\n",
      "Jove Books                  15178\n",
      "Silhouette                  14184\n",
      "Dell                        13916\n",
      "Scholastic                  13662\n",
      "Perennial                   13466\n",
      "Fawcett Books               12905\n",
      "Dell Publishing Company     12733\n",
      "HarperTorch                 12081\n",
      "Vintage Books USA           11426\n",
      "Simon &amp; Schuster        10318\n",
      "Name: Publisher, dtype: int64\n"
     ]
    }
   ],
   "source": [
    "top_Publisher = df['Publisher'].value_counts().head(20)\n",
    "print(f\"Top 20 Publisher from merged dataset :\\n\\n{top_Publisher}\")"
   ]
  },
  {
   "cell_type": "code",
   "execution_count": 97,
   "id": "71def94b",
   "metadata": {},
   "outputs": [
    {
     "name": "stdout",
     "output_type": "stream",
     "text": [
      "Top 20 User-ID from merged dataset : \n",
      "\n",
      "11676     11144\n",
      "198711     6456\n",
      "153662     5814\n",
      "98391      5779\n",
      "35859      5646\n",
      "212898     4289\n",
      "278418     3996\n",
      "76352      3329\n",
      "110973     2971\n",
      "235105     2943\n",
      "16795      2920\n",
      "230522     2857\n",
      "234623     2594\n",
      "204864     2461\n",
      "36836      2458\n",
      "245963     2395\n",
      "185233     2382\n",
      "55492      2361\n",
      "52584      2340\n",
      "232131     2329\n",
      "Name: User-ID, dtype: int64\n"
     ]
    }
   ],
   "source": [
    "top_users = df['User-ID'].value_counts().head(20)\n",
    "print(f\"Top 20 User-ID from merged dataset : \\n\\n{top_users}\")"
   ]
  },
  {
   "cell_type": "code",
   "execution_count": 98,
   "id": "be4c1123",
   "metadata": {},
   "outputs": [
    {
     "name": "stdout",
     "output_type": "stream",
     "text": [
      "Top 11 Book-Rating from explicit_rating dataset : \n",
      "\n",
      "8     91804\n",
      "10    71225\n",
      "7     66402\n",
      "9     60778\n",
      "5     45355\n",
      "6     31687\n",
      "4      7617\n",
      "3      5118\n",
      "2      2375\n",
      "1      1481\n",
      "Name: Book-Rating, dtype: int64\n"
     ]
    }
   ],
   "source": [
    "top_rating = explicit_rating['Book-Rating'].value_counts().head(20)\n",
    "print(f\"Top 11 Book-Rating from explicit_rating dataset : \\n\\n{top_rating}\")"
   ]
  },
  {
   "cell_type": "code",
   "execution_count": 99,
   "id": "70335c4f",
   "metadata": {},
   "outputs": [
    {
     "name": "stdout",
     "output_type": "stream",
     "text": [
      "Top 20 Location from merged dataset : \n",
      "\n",
      "toronto, ontario, canada               14782\n",
      "n/a, n/a, n/a                          11162\n",
      "chicago, illinois, usa                  8499\n",
      "seattle, washington, usa                8392\n",
      "ottawa, ontario, canada                 8116\n",
      "olympia, washington, usa                7871\n",
      "omaha, nebraska, usa                    7228\n",
      "st. louis, missouri, usa                7225\n",
      "little canada, minnesota, usa           6458\n",
      "duluth, minnesota, usa                  6218\n",
      "san diego, california, usa              6132\n",
      "portland, oregon, usa                   6091\n",
      "ft. stewart, georgia, usa               5820\n",
      "london, england, united kingdom         5796\n",
      "morrow, georgia, usa                    5783\n",
      "new york, new york, usa                 5743\n",
      "calgary, alberta, canada                5425\n",
      "houston, texas, usa                     5045\n",
      "san antonio, texas, usa                 4608\n",
      "vancouver, british columbia, canada     4500\n",
      "Name: Location, dtype: int64\n"
     ]
    }
   ],
   "source": [
    "top_location = df['Location'].value_counts().head(20)\n",
    "print(f\"Top 20 Location from merged dataset : \\n\\n{top_location}\")"
   ]
  },
  {
   "cell_type": "code",
   "execution_count": 100,
   "id": "a96c1fc7",
   "metadata": {},
   "outputs": [
    {
     "name": "stdout",
     "output_type": "stream",
     "text": [
      "Top 20 Age from df_filtered_age dataset : \n",
      "\n",
      "32.0    304325\n",
      "33.0     32862\n",
      "29.0     30646\n",
      "30.0     27201\n",
      "36.0     26096\n",
      "28.0     25966\n",
      "31.0     25964\n",
      "34.0     25893\n",
      "38.0     22396\n",
      "27.0     22280\n",
      "26.0     22107\n",
      "25.0     21768\n",
      "44.0     21510\n",
      "37.0     21116\n",
      "43.0     20612\n",
      "35.0     19573\n",
      "23.0     18793\n",
      "24.0     18572\n",
      "47.0     18517\n",
      "52.0     17637\n",
      "Name: Age, dtype: int64\n"
     ]
    }
   ],
   "source": [
    "top_age = df_filtered_age['Age'].value_counts().head(20)\n",
    "print(f\"Top 20 Age from df_filtered_age dataset : \\n\\n{top_age}\")"
   ]
  },
  {
   "cell_type": "code",
   "execution_count": 101,
   "id": "104f1f1f",
   "metadata": {},
   "outputs": [
    {
     "name": "stdout",
     "output_type": "stream",
     "text": [
      "Top 20 Image-URL-M from merged dataset : \n",
      "\n",
      "http://images.amazon.com/images/P/0971880107.01.MZZZZZZZ.jpg    2502\n",
      "http://images.amazon.com/images/P/0316666343.01.MZZZZZZZ.jpg    1295\n",
      "http://images.amazon.com/images/P/0385504209.01.MZZZZZZZ.jpg     883\n",
      "http://images.amazon.com/images/P/0060928336.01.MZZZZZZZ.jpg     732\n",
      "http://images.amazon.com/images/P/0312195516.01.MZZZZZZZ.jpg     723\n",
      "http://images.amazon.com/images/P/044023722X.01.MZZZZZZZ.jpg     649\n",
      "http://images.amazon.com/images/P/067976402X.01.MZZZZZZZ.jpg     618\n",
      "http://images.amazon.com/images/P/0142001740.01.MZZZZZZZ.jpg     615\n",
      "http://images.amazon.com/images/P/0671027360.01.MZZZZZZZ.jpg     586\n",
      "http://images.amazon.com/images/P/0446672211.01.MZZZZZZZ.jpg     585\n",
      "http://images.amazon.com/images/P/059035342X.01.MZZZZZZZ.jpg     575\n",
      "http://images.amazon.com/images/P/0316601950.01.MZZZZZZZ.jpg     568\n",
      "http://images.amazon.com/images/P/0375727345.01.MZZZZZZZ.jpg     552\n",
      "http://images.amazon.com/images/P/044021145X.01.MZZZZZZZ.jpg     534\n",
      "http://images.amazon.com/images/P/0452282152.01.MZZZZZZZ.jpg     526\n",
      "http://images.amazon.com/images/P/0440214041.01.MZZZZZZZ.jpg     523\n",
      "http://images.amazon.com/images/P/0804106304.01.MZZZZZZZ.jpg     519\n",
      "http://images.amazon.com/images/P/0440211727.01.MZZZZZZZ.jpg     517\n",
      "http://images.amazon.com/images/P/0345337662.01.MZZZZZZZ.jpg     506\n",
      "http://images.amazon.com/images/P/0060930535.01.MZZZZZZZ.jpg     494\n",
      "Name: Image-URL-M, dtype: int64\n"
     ]
    }
   ],
   "source": [
    "top_imageUrlM = df['Image-URL-M'].value_counts().head(20)\n",
    "print(f\"Top 20 Image-URL-M from merged dataset : \\n\\n{top_imageUrlM}\")"
   ]
  },
  {
   "cell_type": "code",
   "execution_count": 102,
   "id": "853bd0ff",
   "metadata": {},
   "outputs": [
    {
     "data": {
      "text/plain": [
       "Index(['ISBN', 'Book-Title', 'Book-Author', 'Year-Of-Publication', 'Publisher',\n",
       "       'Image-URL-S', 'Image-URL-M', 'Image-URL-L', 'User-ID', 'Book-Rating',\n",
       "       'Location', 'Age'],\n",
       "      dtype='object')"
      ]
     },
     "execution_count": 102,
     "metadata": {},
     "output_type": "execute_result"
    }
   ],
   "source": [
    "df.columns"
   ]
  },
  {
   "cell_type": "code",
   "execution_count": 103,
   "id": "c82db2d8",
   "metadata": {},
   "outputs": [
    {
     "data": {
      "text/plain": [
       "Wild Animus                   2502\n",
       "The Lovely Bones: A Novel     1295\n",
       "The Da Vinci Code              898\n",
       "A Painted House                838\n",
       "The Nanny Diaries: A Novel     828\n",
       "Name: Book-Title, dtype: int64"
      ]
     },
     "execution_count": 103,
     "metadata": {},
     "output_type": "execute_result"
    }
   ],
   "source": [
    "top_books.head(5)"
   ]
  },
  {
   "cell_type": "code",
   "execution_count": 104,
   "id": "d7808d88",
   "metadata": {},
   "outputs": [
    {
     "data": {
      "text/plain": [
       "Stephen King          10053\n",
       "Nora Roberts           8429\n",
       "John Grisham           6010\n",
       "James Patterson        5845\n",
       "Mary Higgins Clark     4777\n",
       "Name: Book-Author, dtype: int64"
      ]
     },
     "execution_count": 104,
     "metadata": {},
     "output_type": "execute_result"
    }
   ],
   "source": [
    "top_authors.head(5)"
   ]
  },
  {
   "cell_type": "code",
   "execution_count": 105,
   "id": "91500de9",
   "metadata": {},
   "outputs": [
    {
     "data": {
      "text/plain": [
       "Index(['ISBN', 'Book-Title', 'Book-Author', 'Year-Of-Publication', 'Publisher',\n",
       "       'Image-URL-S', 'Image-URL-M', 'Image-URL-L', 'User-ID', 'Book-Rating',\n",
       "       'Location', 'Age'],\n",
       "      dtype='object')"
      ]
     },
     "execution_count": 105,
     "metadata": {},
     "output_type": "execute_result"
    }
   ],
   "source": [
    "df.columns"
   ]
  },
  {
   "cell_type": "code",
   "execution_count": 106,
   "id": "ad49d19b",
   "metadata": {},
   "outputs": [],
   "source": [
    "# Filter the dataset to include only rows with top authors\n",
    "filtered_df_authors = df[df['Book-Author'].isin(top_authors.index)]\n",
    "top_books_by_authors = filtered_df_authors['Book-Title'].value_counts().reset_index()\n",
    "top_books_by_authors.columns = ['Book-Title', 'count']\n",
    "\n",
    "# Filter the dataset to include only rows with top years\n",
    "filtered_df_years = df_filtered_year[df_filtered_year['Year-Of-Publication'].isin(top_years.index)]\n",
    "top_books_by_yop = filtered_df_years['Book-Title'].value_counts().reset_index()\n",
    "top_books_by_yop.columns = ['Book-Title', 'count']\n",
    "\n",
    "# Filter the dataset to include only rows with top publishers\n",
    "filtered_df_publisher = df[df['Publisher'].isin(top_Publisher.index)]\n",
    "top_books_by_publisher = filtered_df_publisher['Book-Title'].value_counts().reset_index()\n",
    "top_books_by_publisher.columns = ['Book-Title', 'count']\n",
    "\n",
    "# Filter the dataset to include only rows with top users\n",
    "filtered_df_users = df[df['User-ID'].isin(top_users.index)]\n",
    "top_books_by_users = filtered_df_users['Book-Title'].value_counts().reset_index()\n",
    "top_books_by_users.columns = ['Book-Title', 'count']\n",
    "\n",
    "# Filter the dataset to include only rows with top Book-Rating\n",
    "filtered_df_top_rating = explicit_rating[explicit_rating['Book-Rating'].isin(top_rating.index)]\n",
    "top_books_by_rating = filtered_df_top_rating['Book-Title'].value_counts().reset_index()\n",
    "top_books_by_rating.columns = ['Book-Title', 'count']\n",
    "\n",
    "# Filter the dataset to include only rows with top Location\n",
    "filtered_df_Location = df[df['Location'].isin(top_location.index)]\n",
    "top_books_by_Location = filtered_df_Location['Book-Title'].value_counts().reset_index()\n",
    "top_books_by_Location.columns = ['Book-Title', 'count']\n",
    "\n",
    "# Filter the dataset to include only rows with top Age\n",
    "filtered_df_age = df_filtered_age[df_filtered_age['Age'].isin(top_age.index)]\n",
    "top_books_by_age = filtered_df_age['Book-Title'].value_counts().reset_index()\n",
    "top_books_by_age.columns = ['Book-Title', 'count']\n",
    "\n"
   ]
  },
  {
   "cell_type": "code",
   "execution_count": 107,
   "id": "5d71c6a7",
   "metadata": {},
   "outputs": [],
   "source": [
    "# List of dataframes\n",
    "dataframes = [\n",
    "    top_books_by_authors, top_books_by_yop, top_books_by_publisher,\n",
    "    top_books_by_users, top_books_by_rating, top_books_by_Location, top_books_by_age\n",
    "]"
   ]
  },
  {
   "cell_type": "code",
   "execution_count": 108,
   "id": "a0fd4250",
   "metadata": {},
   "outputs": [
    {
     "name": "stdout",
     "output_type": "stream",
     "text": [
      "DataFrame at index 0 is a Pandas DataFrame\n",
      "DataFrame at index 1 is a Dask DataFrame\n",
      "DataFrame at index 2 is a Pandas DataFrame\n",
      "DataFrame at index 3 is a Pandas DataFrame\n",
      "DataFrame at index 4 is a Dask DataFrame\n",
      "DataFrame at index 5 is a Pandas DataFrame\n",
      "DataFrame at index 6 is a Dask DataFrame\n"
     ]
    }
   ],
   "source": [
    "# Check the type of each dataframe and convert if necessary\n",
    "for i, df in enumerate(dataframes):\n",
    "    if isinstance(df, dd.DataFrame):\n",
    "        print(f\"DataFrame at index {i} is a Dask DataFrame\")\n",
    "        dataframes[i] = df.compute()\n",
    "    elif isinstance(df, pd.DataFrame):\n",
    "        print(f\"DataFrame at index {i} is a Pandas DataFrame\")"
   ]
  },
  {
   "cell_type": "code",
   "execution_count": 109,
   "id": "4f4097eb",
   "metadata": {},
   "outputs": [],
   "source": [
    "# Now concatenate all counts\n",
    "combined_counts = pd.concat(dataframes, ignore_index=True)"
   ]
  },
  {
   "cell_type": "code",
   "execution_count": 110,
   "id": "a81967e0",
   "metadata": {},
   "outputs": [
    {
     "name": "stdout",
     "output_type": "stream",
     "text": [
      "                                               Book-Title  count\n",
      "0                                             Wild Animus   2502\n",
      "1                                         A Painted House    838\n",
      "2                                             The Summons    654\n",
      "3                                            The Notebook    650\n",
      "4                                           The Testament    615\n",
      "...                                                   ...    ...\n",
      "716503  Emotional Genius : Discovering the Deepest Lan...      1\n",
      "716504  Emotional Healing: A Program for Emotional Sob...      1\n",
      "716505  Emotional Intelligence : Why it can matter mor...      1\n",
      "716506          Emotional Purity : An Affair of the Heart      1\n",
      "716507                                    ÿ¿thique en toc      1\n",
      "\n",
      "[716508 rows x 2 columns]\n"
     ]
    }
   ],
   "source": [
    "print(combined_counts)"
   ]
  },
  {
   "cell_type": "code",
   "execution_count": 111,
   "id": "231db201",
   "metadata": {},
   "outputs": [],
   "source": [
    "# Aggregate the counts by Book-Title\n",
    "aggregated_counts = combined_counts.groupby('Book-Title').sum().reset_index()\n"
   ]
  },
  {
   "cell_type": "code",
   "execution_count": 112,
   "id": "0e8f771a",
   "metadata": {},
   "outputs": [],
   "source": [
    "# Sort the aggregated counts in descending order and get the top 10\n",
    "sorted_aggregated_counts = aggregated_counts.sort_values(by='count', ascending=False).head(10)"
   ]
  },
  {
   "cell_type": "code",
   "execution_count": 113,
   "id": "af000b2c",
   "metadata": {},
   "outputs": [
    {
     "name": "stdout",
     "output_type": "stream",
     "text": [
      "Top 10 Recommended Book-Title based on combined criteria: \n",
      "\n",
      "                                              Book-Title  count\n",
      "232012                                       Wild Animus   7366\n",
      "5269                                     A Painted House   3413\n",
      "193903                         The Lovely Bones: A Novel   3083\n",
      "197806                                      The Notebook   2809\n",
      "206761                                       The Summons   2641\n",
      "52350    Divine Secrets of the Ya-Ya Sisterhood: A Novel   2462\n",
      "203993                           The Secret Life of Bees   2459\n",
      "79394   Harry Potter and the Chamber of Secrets (Book 2)   2453\n",
      "207526                                     The Testament   2432\n",
      "199228                                 The Pelican Brief   2379\n"
     ]
    }
   ],
   "source": [
    "print(f\"Top 10 Recommended Book-Title based on combined criteria: \\n\\n{sorted_aggregated_counts}\")"
   ]
  },
  {
   "cell_type": "code",
   "execution_count": 114,
   "id": "425e80a7",
   "metadata": {},
   "outputs": [],
   "source": [
    "###"
   ]
  },
  {
   "cell_type": "code",
   "execution_count": null,
   "id": "7fede65d",
   "metadata": {},
   "outputs": [],
   "source": []
  }
 ],
 "metadata": {
  "kernelspec": {
   "display_name": "Python 3 (ipykernel)",
   "language": "python",
   "name": "python3"
  },
  "language_info": {
   "codemirror_mode": {
    "name": "ipython",
    "version": 3
   },
   "file_extension": ".py",
   "mimetype": "text/x-python",
   "name": "python",
   "nbconvert_exporter": "python",
   "pygments_lexer": "ipython3",
   "version": "3.9.13"
  }
 },
 "nbformat": 4,
 "nbformat_minor": 5
}
